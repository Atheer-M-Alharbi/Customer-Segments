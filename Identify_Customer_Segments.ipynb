{
 "cells": [
  {
   "cell_type": "markdown",
   "metadata": {},
   "source": [
    "# Project: Identify Customer Segments\n",
    "\n",
    "In this project, you will apply unsupervised learning techniques to identify segments of the population that form the core customer base for a mail-order sales company in Germany. These segments can then be used to direct marketing campaigns towards audiences that will have the highest expected rate of returns. The data that you will use has been provided by our partners at Bertelsmann Arvato Analytics, and represents a real-life data science task.\n",
    "\n",
    "This notebook will help you complete this task by providing a framework within which you will perform your analysis steps. In each step of the project, you will see some text describing the subtask that you will perform, followed by one or more code cells for you to complete your work. **Feel free to add additional code and markdown cells as you go along so that you can explore everything in precise chunks.** The code cells provided in the base template will outline only the major tasks, and will usually not be enough to cover all of the minor tasks that comprise it.\n",
    "\n",
    "It should be noted that while there will be precise guidelines on how you should handle certain tasks in the project, there will also be places where an exact specification is not provided. **There will be times in the project where you will need to make and justify your own decisions on how to treat the data.** These are places where there may not be only one way to handle the data. In real-life tasks, there may be many valid ways to approach an analysis task. One of the most important things you can do is clearly document your approach so that other scientists can understand the decisions you've made.\n",
    "\n",
    "At the end of most sections, there will be a Markdown cell labeled **Discussion**. In these cells, you will report your findings for the completed section, as well as document the decisions that you made in your approach to each subtask. **Your project will be evaluated not just on the code used to complete the tasks outlined, but also your communication about your observations and conclusions at each stage.**"
   ]
  },
  {
   "cell_type": "code",
   "execution_count": 90,
   "metadata": {},
   "outputs": [
    {
     "data": {
      "text/plain": [
       "'\\nImport note: The classroom currently uses sklearn version 0.19.\\nIf you need to use an imputer, it is available in sklearn.preprocessing.Imputer,\\ninstead of sklearn.impute as in newer versions of sklearn.\\n'"
      ]
     },
     "execution_count": 90,
     "metadata": {},
     "output_type": "execute_result"
    }
   ],
   "source": [
    "# import libraries here; add more as necessary\n",
    "import numpy as np\n",
    "import pandas as pd\n",
    "import matplotlib.pyplot as plt\n",
    "import seaborn as sns\n",
    "import random\n",
    "from sklearn.preprocessing import Imputer\n",
    "from sklearn.preprocessing import StandardScaler\n",
    "from sklearn.cluster import KMeans\n",
    "from sklearn.decomposition import PCA\n",
    "\n",
    "# magic word for producing visualizations in notebook\n",
    "%matplotlib inline\n",
    "\n",
    "'''\n",
    "Import note: The classroom currently uses sklearn version 0.19.\n",
    "If you need to use an imputer, it is available in sklearn.preprocessing.Imputer,\n",
    "instead of sklearn.impute as in newer versions of sklearn.\n",
    "'''"
   ]
  },
  {
   "cell_type": "markdown",
   "metadata": {},
   "source": [
    "### Step 0: Load the Data\n",
    "\n",
    "There are four files associated with this project (not including this one):\n",
    "\n",
    "- `Udacity_AZDIAS_Subset.csv`: Demographics data for the general population of Germany; 891211 persons (rows) x 85 features (columns).\n",
    "- `Udacity_CUSTOMERS_Subset.csv`: Demographics data for customers of a mail-order company; 191652 persons (rows) x 85 features (columns).\n",
    "- `Data_Dictionary.md`: Detailed information file about the features in the provided datasets.\n",
    "- `AZDIAS_Feature_Summary.csv`: Summary of feature attributes for demographics data; 85 features (rows) x 4 columns\n",
    "\n",
    "Each row of the demographics files represents a single person, but also includes information outside of individuals, including information about their household, building, and neighborhood. You will use this information to cluster the general population into groups with similar demographic properties. Then, you will see how the people in the customers dataset fit into those created clusters. The hope here is that certain clusters are over-represented in the customers data, as compared to the general population; those over-represented clusters will be assumed to be part of the core userbase. This information can then be used for further applications, such as targeting for a marketing campaign.\n",
    "\n",
    "To start off with, load in the demographics data for the general population into a pandas DataFrame, and do the same for the feature attributes summary. Note for all of the `.csv` data files in this project: they're semicolon (`;`) delimited, so you'll need an additional argument in your [`read_csv()`](https://pandas.pydata.org/pandas-docs/stable/generated/pandas.read_csv.html) call to read in the data properly. Also, considering the size of the main dataset, it may take some time for it to load completely.\n",
    "\n",
    "Once the dataset is loaded, it's recommended that you take a little bit of time just browsing the general structure of the dataset and feature summary file. You'll be getting deep into the innards of the cleaning in the first major step of the project, so gaining some general familiarity can help you get your bearings."
   ]
  },
  {
   "cell_type": "code",
   "execution_count": 91,
   "metadata": {},
   "outputs": [],
   "source": [
    "# Load in the general demographics data.\n",
    "azdias = pd.read_csv('Udacity_AZDIAS_Subset.csv',delimiter=';')\n",
    "azdias_test = azdias.copy()\n",
    "# Load in the feature summary file.\n",
    "feat_info = pd.read_csv('AZDIAS_Feature_Summary.csv',delimiter=';')"
   ]
  },
  {
   "cell_type": "code",
   "execution_count": 92,
   "metadata": {},
   "outputs": [
    {
     "data": {
      "text/html": [
       "<div>\n",
       "<style scoped>\n",
       "    .dataframe tbody tr th:only-of-type {\n",
       "        vertical-align: middle;\n",
       "    }\n",
       "\n",
       "    .dataframe tbody tr th {\n",
       "        vertical-align: top;\n",
       "    }\n",
       "\n",
       "    .dataframe thead th {\n",
       "        text-align: right;\n",
       "    }\n",
       "</style>\n",
       "<table border=\"1\" class=\"dataframe\">\n",
       "  <thead>\n",
       "    <tr style=\"text-align: right;\">\n",
       "      <th></th>\n",
       "      <th>AGER_TYP</th>\n",
       "      <th>ALTERSKATEGORIE_GROB</th>\n",
       "      <th>ANREDE_KZ</th>\n",
       "      <th>CJT_GESAMTTYP</th>\n",
       "      <th>FINANZ_MINIMALIST</th>\n",
       "      <th>FINANZ_SPARER</th>\n",
       "      <th>FINANZ_VORSORGER</th>\n",
       "      <th>FINANZ_ANLEGER</th>\n",
       "      <th>FINANZ_UNAUFFAELLIGER</th>\n",
       "      <th>FINANZ_HAUSBAUER</th>\n",
       "      <th>...</th>\n",
       "      <th>PLZ8_ANTG1</th>\n",
       "      <th>PLZ8_ANTG2</th>\n",
       "      <th>PLZ8_ANTG3</th>\n",
       "      <th>PLZ8_ANTG4</th>\n",
       "      <th>PLZ8_BAUMAX</th>\n",
       "      <th>PLZ8_HHZ</th>\n",
       "      <th>PLZ8_GBZ</th>\n",
       "      <th>ARBEIT</th>\n",
       "      <th>ORTSGR_KLS9</th>\n",
       "      <th>RELAT_AB</th>\n",
       "    </tr>\n",
       "  </thead>\n",
       "  <tbody>\n",
       "    <tr>\n",
       "      <th>0</th>\n",
       "      <td>-1</td>\n",
       "      <td>2</td>\n",
       "      <td>1</td>\n",
       "      <td>2.0</td>\n",
       "      <td>3</td>\n",
       "      <td>4</td>\n",
       "      <td>3</td>\n",
       "      <td>5</td>\n",
       "      <td>5</td>\n",
       "      <td>3</td>\n",
       "      <td>...</td>\n",
       "      <td>NaN</td>\n",
       "      <td>NaN</td>\n",
       "      <td>NaN</td>\n",
       "      <td>NaN</td>\n",
       "      <td>NaN</td>\n",
       "      <td>NaN</td>\n",
       "      <td>NaN</td>\n",
       "      <td>NaN</td>\n",
       "      <td>NaN</td>\n",
       "      <td>NaN</td>\n",
       "    </tr>\n",
       "    <tr>\n",
       "      <th>1</th>\n",
       "      <td>-1</td>\n",
       "      <td>1</td>\n",
       "      <td>2</td>\n",
       "      <td>5.0</td>\n",
       "      <td>1</td>\n",
       "      <td>5</td>\n",
       "      <td>2</td>\n",
       "      <td>5</td>\n",
       "      <td>4</td>\n",
       "      <td>5</td>\n",
       "      <td>...</td>\n",
       "      <td>2.0</td>\n",
       "      <td>3.0</td>\n",
       "      <td>2.0</td>\n",
       "      <td>1.0</td>\n",
       "      <td>1.0</td>\n",
       "      <td>5.0</td>\n",
       "      <td>4.0</td>\n",
       "      <td>3.0</td>\n",
       "      <td>5.0</td>\n",
       "      <td>4.0</td>\n",
       "    </tr>\n",
       "    <tr>\n",
       "      <th>2</th>\n",
       "      <td>-1</td>\n",
       "      <td>3</td>\n",
       "      <td>2</td>\n",
       "      <td>3.0</td>\n",
       "      <td>1</td>\n",
       "      <td>4</td>\n",
       "      <td>1</td>\n",
       "      <td>2</td>\n",
       "      <td>3</td>\n",
       "      <td>5</td>\n",
       "      <td>...</td>\n",
       "      <td>3.0</td>\n",
       "      <td>3.0</td>\n",
       "      <td>1.0</td>\n",
       "      <td>0.0</td>\n",
       "      <td>1.0</td>\n",
       "      <td>4.0</td>\n",
       "      <td>4.0</td>\n",
       "      <td>3.0</td>\n",
       "      <td>5.0</td>\n",
       "      <td>2.0</td>\n",
       "    </tr>\n",
       "    <tr>\n",
       "      <th>3</th>\n",
       "      <td>2</td>\n",
       "      <td>4</td>\n",
       "      <td>2</td>\n",
       "      <td>2.0</td>\n",
       "      <td>4</td>\n",
       "      <td>2</td>\n",
       "      <td>5</td>\n",
       "      <td>2</td>\n",
       "      <td>1</td>\n",
       "      <td>2</td>\n",
       "      <td>...</td>\n",
       "      <td>2.0</td>\n",
       "      <td>2.0</td>\n",
       "      <td>2.0</td>\n",
       "      <td>0.0</td>\n",
       "      <td>1.0</td>\n",
       "      <td>3.0</td>\n",
       "      <td>4.0</td>\n",
       "      <td>2.0</td>\n",
       "      <td>3.0</td>\n",
       "      <td>3.0</td>\n",
       "    </tr>\n",
       "    <tr>\n",
       "      <th>4</th>\n",
       "      <td>-1</td>\n",
       "      <td>3</td>\n",
       "      <td>1</td>\n",
       "      <td>5.0</td>\n",
       "      <td>4</td>\n",
       "      <td>3</td>\n",
       "      <td>4</td>\n",
       "      <td>1</td>\n",
       "      <td>3</td>\n",
       "      <td>2</td>\n",
       "      <td>...</td>\n",
       "      <td>2.0</td>\n",
       "      <td>4.0</td>\n",
       "      <td>2.0</td>\n",
       "      <td>1.0</td>\n",
       "      <td>2.0</td>\n",
       "      <td>3.0</td>\n",
       "      <td>3.0</td>\n",
       "      <td>4.0</td>\n",
       "      <td>6.0</td>\n",
       "      <td>5.0</td>\n",
       "    </tr>\n",
       "    <tr>\n",
       "      <th>5</th>\n",
       "      <td>3</td>\n",
       "      <td>1</td>\n",
       "      <td>2</td>\n",
       "      <td>2.0</td>\n",
       "      <td>3</td>\n",
       "      <td>1</td>\n",
       "      <td>5</td>\n",
       "      <td>2</td>\n",
       "      <td>2</td>\n",
       "      <td>5</td>\n",
       "      <td>...</td>\n",
       "      <td>2.0</td>\n",
       "      <td>3.0</td>\n",
       "      <td>1.0</td>\n",
       "      <td>1.0</td>\n",
       "      <td>1.0</td>\n",
       "      <td>5.0</td>\n",
       "      <td>5.0</td>\n",
       "      <td>2.0</td>\n",
       "      <td>3.0</td>\n",
       "      <td>3.0</td>\n",
       "    </tr>\n",
       "    <tr>\n",
       "      <th>6</th>\n",
       "      <td>-1</td>\n",
       "      <td>2</td>\n",
       "      <td>2</td>\n",
       "      <td>5.0</td>\n",
       "      <td>1</td>\n",
       "      <td>5</td>\n",
       "      <td>1</td>\n",
       "      <td>5</td>\n",
       "      <td>4</td>\n",
       "      <td>3</td>\n",
       "      <td>...</td>\n",
       "      <td>3.0</td>\n",
       "      <td>3.0</td>\n",
       "      <td>1.0</td>\n",
       "      <td>0.0</td>\n",
       "      <td>1.0</td>\n",
       "      <td>5.0</td>\n",
       "      <td>5.0</td>\n",
       "      <td>4.0</td>\n",
       "      <td>6.0</td>\n",
       "      <td>3.0</td>\n",
       "    </tr>\n",
       "    <tr>\n",
       "      <th>7</th>\n",
       "      <td>-1</td>\n",
       "      <td>1</td>\n",
       "      <td>1</td>\n",
       "      <td>3.0</td>\n",
       "      <td>3</td>\n",
       "      <td>3</td>\n",
       "      <td>4</td>\n",
       "      <td>1</td>\n",
       "      <td>3</td>\n",
       "      <td>2</td>\n",
       "      <td>...</td>\n",
       "      <td>3.0</td>\n",
       "      <td>3.0</td>\n",
       "      <td>1.0</td>\n",
       "      <td>0.0</td>\n",
       "      <td>1.0</td>\n",
       "      <td>4.0</td>\n",
       "      <td>4.0</td>\n",
       "      <td>2.0</td>\n",
       "      <td>5.0</td>\n",
       "      <td>2.0</td>\n",
       "    </tr>\n",
       "    <tr>\n",
       "      <th>8</th>\n",
       "      <td>-1</td>\n",
       "      <td>3</td>\n",
       "      <td>1</td>\n",
       "      <td>3.0</td>\n",
       "      <td>4</td>\n",
       "      <td>4</td>\n",
       "      <td>2</td>\n",
       "      <td>4</td>\n",
       "      <td>2</td>\n",
       "      <td>2</td>\n",
       "      <td>...</td>\n",
       "      <td>2.0</td>\n",
       "      <td>3.0</td>\n",
       "      <td>2.0</td>\n",
       "      <td>1.0</td>\n",
       "      <td>1.0</td>\n",
       "      <td>3.0</td>\n",
       "      <td>3.0</td>\n",
       "      <td>2.0</td>\n",
       "      <td>4.0</td>\n",
       "      <td>3.0</td>\n",
       "    </tr>\n",
       "    <tr>\n",
       "      <th>9</th>\n",
       "      <td>-1</td>\n",
       "      <td>3</td>\n",
       "      <td>2</td>\n",
       "      <td>4.0</td>\n",
       "      <td>2</td>\n",
       "      <td>4</td>\n",
       "      <td>2</td>\n",
       "      <td>3</td>\n",
       "      <td>5</td>\n",
       "      <td>4</td>\n",
       "      <td>...</td>\n",
       "      <td>2.0</td>\n",
       "      <td>3.0</td>\n",
       "      <td>2.0</td>\n",
       "      <td>1.0</td>\n",
       "      <td>1.0</td>\n",
       "      <td>3.0</td>\n",
       "      <td>3.0</td>\n",
       "      <td>2.0</td>\n",
       "      <td>3.0</td>\n",
       "      <td>1.0</td>\n",
       "    </tr>\n",
       "  </tbody>\n",
       "</table>\n",
       "<p>10 rows × 85 columns</p>\n",
       "</div>"
      ],
      "text/plain": [
       "   AGER_TYP  ALTERSKATEGORIE_GROB  ANREDE_KZ  CJT_GESAMTTYP  \\\n",
       "0        -1                     2          1            2.0   \n",
       "1        -1                     1          2            5.0   \n",
       "2        -1                     3          2            3.0   \n",
       "3         2                     4          2            2.0   \n",
       "4        -1                     3          1            5.0   \n",
       "5         3                     1          2            2.0   \n",
       "6        -1                     2          2            5.0   \n",
       "7        -1                     1          1            3.0   \n",
       "8        -1                     3          1            3.0   \n",
       "9        -1                     3          2            4.0   \n",
       "\n",
       "   FINANZ_MINIMALIST  FINANZ_SPARER  FINANZ_VORSORGER  FINANZ_ANLEGER  \\\n",
       "0                  3              4                 3               5   \n",
       "1                  1              5                 2               5   \n",
       "2                  1              4                 1               2   \n",
       "3                  4              2                 5               2   \n",
       "4                  4              3                 4               1   \n",
       "5                  3              1                 5               2   \n",
       "6                  1              5                 1               5   \n",
       "7                  3              3                 4               1   \n",
       "8                  4              4                 2               4   \n",
       "9                  2              4                 2               3   \n",
       "\n",
       "   FINANZ_UNAUFFAELLIGER  FINANZ_HAUSBAUER    ...     PLZ8_ANTG1  PLZ8_ANTG2  \\\n",
       "0                      5                 3    ...            NaN         NaN   \n",
       "1                      4                 5    ...            2.0         3.0   \n",
       "2                      3                 5    ...            3.0         3.0   \n",
       "3                      1                 2    ...            2.0         2.0   \n",
       "4                      3                 2    ...            2.0         4.0   \n",
       "5                      2                 5    ...            2.0         3.0   \n",
       "6                      4                 3    ...            3.0         3.0   \n",
       "7                      3                 2    ...            3.0         3.0   \n",
       "8                      2                 2    ...            2.0         3.0   \n",
       "9                      5                 4    ...            2.0         3.0   \n",
       "\n",
       "   PLZ8_ANTG3  PLZ8_ANTG4  PLZ8_BAUMAX  PLZ8_HHZ  PLZ8_GBZ  ARBEIT  \\\n",
       "0         NaN         NaN          NaN       NaN       NaN     NaN   \n",
       "1         2.0         1.0          1.0       5.0       4.0     3.0   \n",
       "2         1.0         0.0          1.0       4.0       4.0     3.0   \n",
       "3         2.0         0.0          1.0       3.0       4.0     2.0   \n",
       "4         2.0         1.0          2.0       3.0       3.0     4.0   \n",
       "5         1.0         1.0          1.0       5.0       5.0     2.0   \n",
       "6         1.0         0.0          1.0       5.0       5.0     4.0   \n",
       "7         1.0         0.0          1.0       4.0       4.0     2.0   \n",
       "8         2.0         1.0          1.0       3.0       3.0     2.0   \n",
       "9         2.0         1.0          1.0       3.0       3.0     2.0   \n",
       "\n",
       "   ORTSGR_KLS9  RELAT_AB  \n",
       "0          NaN       NaN  \n",
       "1          5.0       4.0  \n",
       "2          5.0       2.0  \n",
       "3          3.0       3.0  \n",
       "4          6.0       5.0  \n",
       "5          3.0       3.0  \n",
       "6          6.0       3.0  \n",
       "7          5.0       2.0  \n",
       "8          4.0       3.0  \n",
       "9          3.0       1.0  \n",
       "\n",
       "[10 rows x 85 columns]"
      ]
     },
     "execution_count": 92,
     "metadata": {},
     "output_type": "execute_result"
    }
   ],
   "source": [
    "# Check the structure of the data after it's loaded (e.g. print the number of\n",
    "# rows and columns, print the first few rows).\n",
    "azdias.head(10)"
   ]
  },
  {
   "cell_type": "code",
   "execution_count": 93,
   "metadata": {},
   "outputs": [
    {
     "data": {
      "text/plain": [
       "(891221, 85)"
      ]
     },
     "execution_count": 93,
     "metadata": {},
     "output_type": "execute_result"
    }
   ],
   "source": [
    "# the number of rows and columns\n",
    "azdias.shape"
   ]
  },
  {
   "cell_type": "code",
   "execution_count": 94,
   "metadata": {},
   "outputs": [
    {
     "name": "stdout",
     "output_type": "stream",
     "text": [
      "<class 'pandas.core.frame.DataFrame'>\n",
      "RangeIndex: 891221 entries, 0 to 891220\n",
      "Data columns (total 85 columns):\n",
      "AGER_TYP                 891221 non-null int64\n",
      "ALTERSKATEGORIE_GROB     891221 non-null int64\n",
      "ANREDE_KZ                891221 non-null int64\n",
      "CJT_GESAMTTYP            886367 non-null float64\n",
      "FINANZ_MINIMALIST        891221 non-null int64\n",
      "FINANZ_SPARER            891221 non-null int64\n",
      "FINANZ_VORSORGER         891221 non-null int64\n",
      "FINANZ_ANLEGER           891221 non-null int64\n",
      "FINANZ_UNAUFFAELLIGER    891221 non-null int64\n",
      "FINANZ_HAUSBAUER         891221 non-null int64\n",
      "FINANZTYP                891221 non-null int64\n",
      "GEBURTSJAHR              891221 non-null int64\n",
      "GFK_URLAUBERTYP          886367 non-null float64\n",
      "GREEN_AVANTGARDE         891221 non-null int64\n",
      "HEALTH_TYP               891221 non-null int64\n",
      "LP_LEBENSPHASE_FEIN      886367 non-null float64\n",
      "LP_LEBENSPHASE_GROB      886367 non-null float64\n",
      "LP_FAMILIE_FEIN          886367 non-null float64\n",
      "LP_FAMILIE_GROB          886367 non-null float64\n",
      "LP_STATUS_FEIN           886367 non-null float64\n",
      "LP_STATUS_GROB           886367 non-null float64\n",
      "NATIONALITAET_KZ         891221 non-null int64\n",
      "PRAEGENDE_JUGENDJAHRE    891221 non-null int64\n",
      "RETOURTYP_BK_S           886367 non-null float64\n",
      "SEMIO_SOZ                891221 non-null int64\n",
      "SEMIO_FAM                891221 non-null int64\n",
      "SEMIO_REL                891221 non-null int64\n",
      "SEMIO_MAT                891221 non-null int64\n",
      "SEMIO_VERT               891221 non-null int64\n",
      "SEMIO_LUST               891221 non-null int64\n",
      "SEMIO_ERL                891221 non-null int64\n",
      "SEMIO_KULT               891221 non-null int64\n",
      "SEMIO_RAT                891221 non-null int64\n",
      "SEMIO_KRIT               891221 non-null int64\n",
      "SEMIO_DOM                891221 non-null int64\n",
      "SEMIO_KAEM               891221 non-null int64\n",
      "SEMIO_PFLICHT            891221 non-null int64\n",
      "SEMIO_TRADV              891221 non-null int64\n",
      "SHOPPER_TYP              891221 non-null int64\n",
      "SOHO_KZ                  817722 non-null float64\n",
      "TITEL_KZ                 817722 non-null float64\n",
      "VERS_TYP                 891221 non-null int64\n",
      "ZABEOTYP                 891221 non-null int64\n",
      "ALTER_HH                 817722 non-null float64\n",
      "ANZ_PERSONEN             817722 non-null float64\n",
      "ANZ_TITEL                817722 non-null float64\n",
      "HH_EINKOMMEN_SCORE       872873 non-null float64\n",
      "KK_KUNDENTYP             306609 non-null float64\n",
      "W_KEIT_KIND_HH           783619 non-null float64\n",
      "WOHNDAUER_2008           817722 non-null float64\n",
      "ANZ_HAUSHALTE_AKTIV      798073 non-null float64\n",
      "ANZ_HH_TITEL             794213 non-null float64\n",
      "GEBAEUDETYP              798073 non-null float64\n",
      "KONSUMNAEHE              817252 non-null float64\n",
      "MIN_GEBAEUDEJAHR         798073 non-null float64\n",
      "OST_WEST_KZ              798073 non-null object\n",
      "WOHNLAGE                 798073 non-null float64\n",
      "CAMEO_DEUG_2015          792242 non-null object\n",
      "CAMEO_DEU_2015           792242 non-null object\n",
      "CAMEO_INTL_2015          792242 non-null object\n",
      "KBA05_ANTG1              757897 non-null float64\n",
      "KBA05_ANTG2              757897 non-null float64\n",
      "KBA05_ANTG3              757897 non-null float64\n",
      "KBA05_ANTG4              757897 non-null float64\n",
      "KBA05_BAUMAX             757897 non-null float64\n",
      "KBA05_GBZ                757897 non-null float64\n",
      "BALLRAUM                 797481 non-null float64\n",
      "EWDICHTE                 797481 non-null float64\n",
      "INNENSTADT               797481 non-null float64\n",
      "GEBAEUDETYP_RASTER       798066 non-null float64\n",
      "KKK                      770025 non-null float64\n",
      "MOBI_REGIO               757897 non-null float64\n",
      "ONLINE_AFFINITAET        886367 non-null float64\n",
      "REGIOTYP                 770025 non-null float64\n",
      "KBA13_ANZAHL_PKW         785421 non-null float64\n",
      "PLZ8_ANTG1               774706 non-null float64\n",
      "PLZ8_ANTG2               774706 non-null float64\n",
      "PLZ8_ANTG3               774706 non-null float64\n",
      "PLZ8_ANTG4               774706 non-null float64\n",
      "PLZ8_BAUMAX              774706 non-null float64\n",
      "PLZ8_HHZ                 774706 non-null float64\n",
      "PLZ8_GBZ                 774706 non-null float64\n",
      "ARBEIT                   794005 non-null float64\n",
      "ORTSGR_KLS9              794005 non-null float64\n",
      "RELAT_AB                 794005 non-null float64\n",
      "dtypes: float64(49), int64(32), object(4)\n",
      "memory usage: 578.0+ MB\n"
     ]
    }
   ],
   "source": [
    "azdias.info()"
   ]
  },
  {
   "cell_type": "code",
   "execution_count": 95,
   "metadata": {},
   "outputs": [
    {
     "data": {
      "text/html": [
       "<div>\n",
       "<style scoped>\n",
       "    .dataframe tbody tr th:only-of-type {\n",
       "        vertical-align: middle;\n",
       "    }\n",
       "\n",
       "    .dataframe tbody tr th {\n",
       "        vertical-align: top;\n",
       "    }\n",
       "\n",
       "    .dataframe thead th {\n",
       "        text-align: right;\n",
       "    }\n",
       "</style>\n",
       "<table border=\"1\" class=\"dataframe\">\n",
       "  <thead>\n",
       "    <tr style=\"text-align: right;\">\n",
       "      <th></th>\n",
       "      <th>attribute</th>\n",
       "      <th>information_level</th>\n",
       "      <th>type</th>\n",
       "      <th>missing_or_unknown</th>\n",
       "    </tr>\n",
       "  </thead>\n",
       "  <tbody>\n",
       "    <tr>\n",
       "      <th>0</th>\n",
       "      <td>AGER_TYP</td>\n",
       "      <td>person</td>\n",
       "      <td>categorical</td>\n",
       "      <td>[-1,0]</td>\n",
       "    </tr>\n",
       "    <tr>\n",
       "      <th>1</th>\n",
       "      <td>ALTERSKATEGORIE_GROB</td>\n",
       "      <td>person</td>\n",
       "      <td>ordinal</td>\n",
       "      <td>[-1,0,9]</td>\n",
       "    </tr>\n",
       "    <tr>\n",
       "      <th>2</th>\n",
       "      <td>ANREDE_KZ</td>\n",
       "      <td>person</td>\n",
       "      <td>categorical</td>\n",
       "      <td>[-1,0]</td>\n",
       "    </tr>\n",
       "    <tr>\n",
       "      <th>3</th>\n",
       "      <td>CJT_GESAMTTYP</td>\n",
       "      <td>person</td>\n",
       "      <td>categorical</td>\n",
       "      <td>[0]</td>\n",
       "    </tr>\n",
       "    <tr>\n",
       "      <th>4</th>\n",
       "      <td>FINANZ_MINIMALIST</td>\n",
       "      <td>person</td>\n",
       "      <td>ordinal</td>\n",
       "      <td>[-1]</td>\n",
       "    </tr>\n",
       "  </tbody>\n",
       "</table>\n",
       "</div>"
      ],
      "text/plain": [
       "              attribute information_level         type missing_or_unknown\n",
       "0              AGER_TYP            person  categorical             [-1,0]\n",
       "1  ALTERSKATEGORIE_GROB            person      ordinal           [-1,0,9]\n",
       "2             ANREDE_KZ            person  categorical             [-1,0]\n",
       "3         CJT_GESAMTTYP            person  categorical                [0]\n",
       "4     FINANZ_MINIMALIST            person      ordinal               [-1]"
      ]
     },
     "execution_count": 95,
     "metadata": {},
     "output_type": "execute_result"
    }
   ],
   "source": [
    "# according to the summary file the code for missing or unknown value is: -1, 0, 9, X, XX\n",
    "feat_info.head()"
   ]
  },
  {
   "cell_type": "markdown",
   "metadata": {},
   "source": [
    "> **Tip**: Add additional cells to keep everything in reasonably-sized chunks! Keyboard shortcut `esc --> a` (press escape to enter command mode, then press the 'A' key) adds a new cell before the active cell, and `esc --> b` adds a new cell after the active cell. If you need to convert an active cell to a markdown cell, use `esc --> m` and to convert to a code cell, use `esc --> y`. \n",
    "\n",
    "## Step 1: Preprocessing\n",
    "\n",
    "### Step 1.1: Assess Missing Data\n",
    "\n",
    "The feature summary file contains a summary of properties for each demographics data column. You will use this file to help you make cleaning decisions during this stage of the project. First of all, you should assess the demographics data in terms of missing data. Pay attention to the following points as you perform your analysis, and take notes on what you observe. Make sure that you fill in the **Discussion** cell with your findings and decisions at the end of each step that has one!\n",
    "\n",
    "#### Step 1.1.1: Convert Missing Value Codes to NaNs\n",
    "The fourth column of the feature attributes summary (loaded in above as `feat_info`) documents the codes from the data dictionary that indicate missing or unknown data. While the file encodes this as a list (e.g. `[-1,0]`), this will get read in as a string object. You'll need to do a little bit of parsing to make use of it to identify and clean the data. Convert data that matches a 'missing' or 'unknown' value code into a numpy NaN value. You might want to see how much data takes on a 'missing' or 'unknown' code, and how much data is naturally missing, as a point of interest.\n",
    "\n",
    "**As one more reminder, you are encouraged to add additional cells to break up your analysis into manageable chunks.**"
   ]
  },
  {
   "cell_type": "code",
   "execution_count": 96,
   "metadata": {},
   "outputs": [
    {
     "name": "stdout",
     "output_type": "stream",
     "text": [
      "4896838\n"
     ]
    }
   ],
   "source": [
    "# Identify missing or unknown data values and convert them to NaNs.\n",
    "print(azdias.isnull().sum().sum())"
   ]
  },
  {
   "cell_type": "code",
   "execution_count": 97,
   "metadata": {},
   "outputs": [
    {
     "data": {
      "text/plain": [
       "'[-1,0]'"
      ]
     },
     "execution_count": 97,
     "metadata": {},
     "output_type": "execute_result"
    }
   ],
   "source": [
    "feat_info.missing_or_unknown.iloc[0]"
   ]
  },
  {
   "cell_type": "code",
   "execution_count": 98,
   "metadata": {},
   "outputs": [],
   "source": [
    "feat_info['missing_or_unknown'] = feat_info['missing_or_unknown'].str.strip('[').str.strip(']').str.split(',').values"
   ]
  },
  {
   "cell_type": "code",
   "execution_count": 99,
   "metadata": {},
   "outputs": [
    {
     "data": {
      "text/plain": [
       "['-1', '0']"
      ]
     },
     "execution_count": 99,
     "metadata": {},
     "output_type": "execute_result"
    }
   ],
   "source": [
    "feat_info.missing_or_unknown.iloc[0]"
   ]
  },
  {
   "cell_type": "code",
   "execution_count": 100,
   "metadata": {},
   "outputs": [],
   "source": [
    "# make 'attribute' column as index to use it as key\n",
    "feat_info.set_index(['attribute'], inplace=True)"
   ]
  },
  {
   "cell_type": "code",
   "execution_count": 101,
   "metadata": {},
   "outputs": [],
   "source": [
    "for index , row  in feat_info.iterrows(): \n",
    "    Record=row['missing_or_unknown']\n",
    "    for i in range(len(Record)): \n",
    "        if ( Record[i] != ''and Record[i] != 'X'and Record[i] != 'XX' ): \n",
    "            Record[i] = int(Record[i])  \n",
    "        else: \n",
    "            Record[i] = Record[i] "
   ]
  },
  {
   "cell_type": "code",
   "execution_count": 102,
   "metadata": {},
   "outputs": [
    {
     "data": {
      "text/plain": [
       "[-1, 0]"
      ]
     },
     "execution_count": 102,
     "metadata": {},
     "output_type": "execute_result"
    }
   ],
   "source": [
    "feat_info.missing_or_unknown.iloc[0]"
   ]
  },
  {
   "cell_type": "code",
   "execution_count": 103,
   "metadata": {},
   "outputs": [],
   "source": [
    "for index , row  in feat_info.iterrows():\n",
    "    Record=row['missing_or_unknown']\n",
    "    for i in Record:\n",
    "            azdias[index].replace(i, np.NaN, inplace=True)"
   ]
  },
  {
   "cell_type": "code",
   "execution_count": 104,
   "metadata": {},
   "outputs": [
    {
     "name": "stdout",
     "output_type": "stream",
     "text": [
      "8373929\n"
     ]
    }
   ],
   "source": [
    "print(azdias.isnull().sum().sum())"
   ]
  },
  {
   "cell_type": "markdown",
   "metadata": {},
   "source": [
    "#### Step 1.1.2: Assess Missing Data in Each Column\n",
    "\n",
    "How much missing data is present in each column? There are a few columns that are outliers in terms of the proportion of values that are missing. You will want to use matplotlib's [`hist()`](https://matplotlib.org/api/_as_gen/matplotlib.pyplot.hist.html) function to visualize the distribution of missing value counts to find these columns. Identify and document these columns. While some of these columns might have justifications for keeping or re-encoding the data, for this project you should just remove them from the dataframe. (Feel free to make remarks about these outlier columns in the discussion, however!)\n",
    "\n",
    "For the remaining features, are there any patterns in which columns have, or share, missing data?"
   ]
  },
  {
   "cell_type": "code",
   "execution_count": 105,
   "metadata": {},
   "outputs": [
    {
     "data": {
      "text/plain": [
       "(array([ 31.,   1.,   0.,   0.,   0.,   0.,   0.,   7.,   8.,  10.,   6.,\n",
       "          7.,   6.,   0.,   1.,   2.,   0.,   0.,   0.,   0.,   0.,   0.,\n",
       "          0.,   0.,   0.,   0.,   0.,   0.,   0.,   1.,   0.,   0.,   0.,\n",
       "          0.,   0.,   0.,   0.,   1.,   0.,   0.,   0.,   0.,   0.,   0.,\n",
       "          0.,   1.,   0.,   0.,   0.,   0.,   0.,   0.,   0.,   0.,   0.,\n",
       "          1.,   0.,   0.,   0.,   0.,   0.,   0.,   0.,   0.,   0.,   1.,\n",
       "          0.,   0.,   0.,   0.,   0.,   0.,   0.,   0.,   0.,   0.,   0.,\n",
       "          0.,   0.,   0.,   0.,   0.,   0.,   0.,   1.]),\n",
       " array([      0.        ,   10459.54117647,   20919.08235294,\n",
       "          31378.62352941,   41838.16470588,   52297.70588235,\n",
       "          62757.24705882,   73216.78823529,   83676.32941176,\n",
       "          94135.87058824,  104595.41176471,  115054.95294118,\n",
       "         125514.49411765,  135974.03529412,  146433.57647059,\n",
       "         156893.11764706,  167352.65882353,  177812.2       ,\n",
       "         188271.74117647,  198731.28235294,  209190.82352941,\n",
       "         219650.36470588,  230109.90588235,  240569.44705882,\n",
       "         251028.98823529,  261488.52941176,  271948.07058824,\n",
       "         282407.61176471,  292867.15294118,  303326.69411765,\n",
       "         313786.23529412,  324245.77647059,  334705.31764706,\n",
       "         345164.85882353,  355624.4       ,  366083.94117647,\n",
       "         376543.48235294,  387003.02352941,  397462.56470588,\n",
       "         407922.10588235,  418381.64705882,  428841.18823529,\n",
       "         439300.72941176,  449760.27058824,  460219.81176471,\n",
       "         470679.35294118,  481138.89411765,  491598.43529412,\n",
       "         502057.97647059,  512517.51764706,  522977.05882353,\n",
       "         533436.6       ,  543896.14117647,  554355.68235294,\n",
       "         564815.22352941,  575274.76470588,  585734.30588235,\n",
       "         596193.84705882,  606653.38823529,  617112.92941176,\n",
       "         627572.47058824,  638032.01176471,  648491.55294118,\n",
       "         658951.09411765,  669410.63529412,  679870.17647059,\n",
       "         690329.71764706,  700789.25882353,  711248.8       ,\n",
       "         721708.34117647,  732167.88235294,  742627.42352941,\n",
       "         753086.96470588,  763546.50588235,  774006.04705882,\n",
       "         784465.58823529,  794925.12941176,  805384.67058824,\n",
       "         815844.21176471,  826303.75294118,  836763.29411765,\n",
       "         847222.83529412,  857682.37647059,  868141.91764706,\n",
       "         878601.45882353,  889061.        ]),\n",
       " <a list of 85 Patch objects>)"
      ]
     },
     "execution_count": 105,
     "metadata": {},
     "output_type": "execute_result"
    },
    {
     "data": {
      "image/png": "[encoded data removed]",
      "text/plain": [
       "<matplotlib.figure.Figure at 0x7fe4f08d2ef0>"
      ]
     },
     "metadata": {
      "needs_background": "light"
     },
     "output_type": "display_data"
    }
   ],
   "source": [
    "# Perform an assessment of how much missing data there is in each column of the\n",
    "# dataset.\n",
    "\n",
    "plt.hist(azdias.isnull().sum(), histtype='bar', bins=85)"
   ]
  },
  {
   "cell_type": "code",
   "execution_count": 106,
   "metadata": {},
   "outputs": [
    {
     "name": "stdout",
     "output_type": "stream",
     "text": [
      "0.2  missing data \n",
      "['AGER_TYP', 'GEBURTSJAHR', 'TITEL_KZ', 'ALTER_HH', 'KK_KUNDENTYP', 'KBA05_BAUMAX']\n",
      "0.3  missing data \n",
      "['AGER_TYP', 'GEBURTSJAHR', 'TITEL_KZ', 'ALTER_HH', 'KK_KUNDENTYP', 'KBA05_BAUMAX']\n",
      "0.4  missing data \n",
      "['AGER_TYP', 'GEBURTSJAHR', 'TITEL_KZ', 'KK_KUNDENTYP', 'KBA05_BAUMAX']\n",
      "0.5  missing data \n",
      "['AGER_TYP', 'TITEL_KZ', 'KK_KUNDENTYP', 'KBA05_BAUMAX']\n"
     ]
    }
   ],
   "source": [
    "# Investigate patterns in the amount of missing data in each column.\n",
    "percentage_of_missing_data = [0.20,0.30,0.40,0.50]\n",
    "for i in range(4): \n",
    "    azdias_missing_data = azdias.columns[azdias.isnull().mean() > percentage_of_missing_data[i] ].tolist()\n",
    "    print(percentage_of_missing_data[i], ' missing data ')\n",
    "    print(azdias_missing_data)    "
   ]
  },
  {
   "cell_type": "code",
   "execution_count": 107,
   "metadata": {},
   "outputs": [],
   "source": [
    "# Remove the outlier columns from the dataset. (You'll perform other data\n",
    "# engineering tasks such as re-encoding and imputation later.)\n",
    "azdias_missing_data = azdias.columns[azdias.isnull().mean() > 0.20].tolist()\n",
    "azdias.drop(azdias_missing_data, axis =1,inplace=True)"
   ]
  },
  {
   "cell_type": "markdown",
   "metadata": {},
   "source": [
    "#### Discussion 1.1.2: Assess Missing Data in Each Column\n",
    "\n",
    "The dataset has 6 columns that have a high percentage of missing data, these columns are 'AGER_TYP', 'GEBURTSJAHR', 'TITEL_KZ', 'KK_KUNDENTYP', 'KBA05_BAUMAX', 'KBA05_BAUMAX', therethrough it has been removed from the dataset."
   ]
  },
  {
   "cell_type": "markdown",
   "metadata": {},
   "source": [
    "#### Step 1.1.3: Assess Missing Data in Each Row\n",
    "\n",
    "Now, you'll perform a similar assessment for the rows of the dataset. How much data is missing in each row? As with the columns, you should see some groups of points that have a very different numbers of missing values. Divide the data into two subsets: one for data points that are above some threshold for missing values, and a second subset for points below that threshold.\n",
    "\n",
    "In order to know what to do with the outlier rows, we should see if the distribution of data values on columns that are not missing data (or are missing very little data) are similar or different between the two groups. Select at least five of these columns and compare the distribution of values.\n",
    "- You can use seaborn's [`countplot()`](https://seaborn.pydata.org/generated/seaborn.countplot.html) function to create a bar chart of code frequencies and matplotlib's [`subplot()`](https://matplotlib.org/api/_as_gen/matplotlib.pyplot.subplot.html) function to put bar charts for the two subplots side by side.\n",
    "- To reduce repeated code, you might want to write a function that can perform this comparison, taking as one of its arguments a column to be compared.\n",
    "\n",
    "Depending on what you observe in your comparison, this will have implications on how you approach your conclusions later in the analysis. If the distributions of non-missing features look similar between the data with many missing values and the data with few or no missing values, then we could argue that simply dropping those points from the analysis won't present a major issue. On the other hand, if the data with many missing values looks very different from the data with few or no missing values, then we should make a note on those data as special. We'll revisit these data later on. **Either way, you should continue your analysis for now using just the subset of the data with few or no missing values.**"
   ]
  },
  {
   "cell_type": "code",
   "execution_count": 108,
   "metadata": {},
   "outputs": [
    {
     "data": {
      "text/plain": [
       "0         43\n",
       "1          0\n",
       "2          0\n",
       "3          7\n",
       "4          0\n",
       "5          0\n",
       "6          0\n",
       "7          0\n",
       "8          0\n",
       "9          0\n",
       "10         0\n",
       "11        47\n",
       "12         6\n",
       "13         8\n",
       "14        47\n",
       "15         8\n",
       "16         6\n",
       "17        47\n",
       "18         3\n",
       "19         0\n",
       "20        10\n",
       "21         0\n",
       "22         0\n",
       "23         8\n",
       "24        47\n",
       "25         5\n",
       "26        19\n",
       "27         0\n",
       "28         0\n",
       "29         2\n",
       "          ..\n",
       "891191     0\n",
       "891192     0\n",
       "891193     0\n",
       "891194     0\n",
       "891195     0\n",
       "891196     0\n",
       "891197     0\n",
       "891198     0\n",
       "891199     0\n",
       "891200     0\n",
       "891201     0\n",
       "891202     0\n",
       "891203    14\n",
       "891204     0\n",
       "891205     0\n",
       "891206     0\n",
       "891207     0\n",
       "891208     3\n",
       "891209     0\n",
       "891210     0\n",
       "891211     0\n",
       "891212     0\n",
       "891213     0\n",
       "891214     0\n",
       "891215     0\n",
       "891216     3\n",
       "891217     4\n",
       "891218     5\n",
       "891219     0\n",
       "891220     0\n",
       "Length: 891221, dtype: int64"
      ]
     },
     "execution_count": 108,
     "metadata": {},
     "output_type": "execute_result"
    }
   ],
   "source": [
    "# How much data is missing in each row of the dataset?\n",
    "azdias.isnull().sum(axis=1)"
   ]
  },
  {
   "cell_type": "code",
   "execution_count": 109,
   "metadata": {},
   "outputs": [],
   "source": [
    "# Write code to divide the data into two subsets based on the number of missing\n",
    "# values in each row.\n",
    "data_less_than_threshold = azdias[azdias.isnull().sum(axis=1) < 20]\n",
    "data_more_than_threshold = azdias[azdias.isnull().sum(axis=1) >= 20]"
   ]
  },
  {
   "cell_type": "code",
   "execution_count": 110,
   "metadata": {},
   "outputs": [
    {
     "name": "stdout",
     "output_type": "stream",
     "text": [
      "0.8943651462431877\n",
      "0.10563485375681228\n"
     ]
    }
   ],
   "source": [
    "# check the percentage of the rows in each subsets\n",
    "print(data_less_than_threshold.shape[0] / azdias.shape[0])\n",
    "print(data_more_than_threshold.shape[0] / azdias.shape[0])"
   ]
  },
  {
   "cell_type": "code",
   "execution_count": 111,
   "metadata": {},
   "outputs": [
    {
     "name": "stdout",
     "output_type": "stream",
     "text": [
      "24\n",
      "7\n"
     ]
    }
   ],
   "source": [
    "# Compare the distribution of values for at least five columns where there are\n",
    "# no or few missing values, between the two subsets.\n",
    "column = azdias.columns[azdias.isnull().sum() <= 0 ].tolist()\n",
    "print(len(column))\n",
    "seven_column = random.choices(column, k=7)\n",
    "print(len(seven_column))"
   ]
  },
  {
   "cell_type": "code",
   "execution_count": 112,
   "metadata": {},
   "outputs": [
    {
     "data": {
      "image/png": "[encoded data removed]",
      "text/plain": [
       "<matplotlib.figure.Figure at 0x7fe4f0861a20>"
      ]
     },
     "metadata": {
      "needs_background": "light"
     },
     "output_type": "display_data"
    },
    {
     "data": {
      "image/png": "[encoded data removed]",
      "text/plain": [
       "<matplotlib.figure.Figure at 0x7fe4f1788eb8>"
      ]
     },
     "metadata": {
      "needs_background": "light"
     },
     "output_type": "display_data"
    },
    {
     "data": {
      "image/png": "[encoded data removed]",
      "text/plain": [
       "<matplotlib.figure.Figure at 0x7fe4f09836a0>"
      ]
     },
     "metadata": {
      "needs_background": "light"
     },
     "output_type": "display_data"
    },
    {
     "data": {
      "image/png": "[encoded data removed]",
      "text/plain": [
       "<matplotlib.figure.Figure at 0x7fe4f0c77e10>"
      ]
     },
     "metadata": {
      "needs_background": "light"
     },
     "output_type": "display_data"
    },
    {
     "data": {
      "image/png": "[encoded data removed]",
      "text/plain": [
       "<matplotlib.figure.Figure at 0x7fe4f0be1da0>"
      ]
     },
     "metadata": {
      "needs_background": "light"
     },
     "output_type": "display_data"
    },
    {
     "data": {
      "image/png": "[encoded data removed]",
      "text/plain": [
       "<matplotlib.figure.Figure at 0x7fe4f0c06c50>"
      ]
     },
     "metadata": {
      "needs_background": "light"
     },
     "output_type": "display_data"
    },
    {
     "data": {
      "image/png": "[encoded data removed]",
      "text/plain": [
       "<matplotlib.figure.Figure at 0x7fe4f0cd04e0>"
      ]
     },
     "metadata": {
      "needs_background": "light"
     },
     "output_type": "display_data"
    }
   ],
   "source": [
    "for i in seven_column:\n",
    "    fig, axes = plt.subplots(1,2, figsize=(10, 5))\n",
    "    sns.countplot(data_less_than_threshold[i], ax=axes[0], color='blue')\n",
    "    sns.countplot(data_more_than_threshold[i], ax=axes[1], color='red')"
   ]
  },
  {
   "cell_type": "markdown",
   "metadata": {},
   "source": [
    "#### Discussion 1.1.3: Assess Missing Data in Each Row\n",
    "\n",
    "Around 10% of the rows contain missing data with a precentage higher than 20%, the distribution is quite different as well, therethrough will continue with the set with less than 20% missing data which represents around 89% of the rows."
   ]
  },
  {
   "cell_type": "code",
   "execution_count": 113,
   "metadata": {},
   "outputs": [],
   "source": [
    "azdias = data_less_than_threshold.copy()"
   ]
  },
  {
   "cell_type": "markdown",
   "metadata": {},
   "source": [
    "### Step 1.2: Select and Re-Encode Features\n",
    "\n",
    "Checking for missing data isn't the only way in which you can prepare a dataset for analysis. Since the unsupervised learning techniques to be used will only work on data that is encoded numerically, you need to make a few encoding changes or additional assumptions to be able to make progress. In addition, while almost all of the values in the dataset are encoded using numbers, not all of them represent numeric values. Check the third column of the feature summary (`feat_info`) for a summary of types of measurement.\n",
    "- For numeric and interval data, these features can be kept without changes.\n",
    "- Most of the variables in the dataset are ordinal in nature. While ordinal values may technically be non-linear in spacing, make the simplifying assumption that the ordinal variables can be treated as being interval in nature (that is, kept without any changes).\n",
    "- Special handling may be necessary for the remaining two variable types: categorical, and 'mixed'.\n",
    "\n",
    "In the first two parts of this sub-step, you will perform an investigation of the categorical and mixed-type features and make a decision on each of them, whether you will keep, drop, or re-encode each. Then, in the last part, you will create a new data frame with only the selected and engineered columns.\n",
    "\n",
    "Data wrangling is often the trickiest part of the data analysis process, and there's a lot of it to be done here. But stick with it: once you're done with this step, you'll be ready to get to the machine learning parts of the project!"
   ]
  },
  {
   "cell_type": "code",
   "execution_count": 114,
   "metadata": {},
   "outputs": [
    {
     "data": {
      "text/html": [
       "<div>\n",
       "<style scoped>\n",
       "    .dataframe tbody tr th:only-of-type {\n",
       "        vertical-align: middle;\n",
       "    }\n",
       "\n",
       "    .dataframe tbody tr th {\n",
       "        vertical-align: top;\n",
       "    }\n",
       "\n",
       "    .dataframe thead th {\n",
       "        text-align: right;\n",
       "    }\n",
       "</style>\n",
       "<table border=\"1\" class=\"dataframe\">\n",
       "  <thead>\n",
       "    <tr style=\"text-align: right;\">\n",
       "      <th></th>\n",
       "      <th>attribute</th>\n",
       "      <th>information_level</th>\n",
       "      <th>type</th>\n",
       "      <th>missing_or_unknown</th>\n",
       "    </tr>\n",
       "  </thead>\n",
       "  <tbody>\n",
       "    <tr>\n",
       "      <th>0</th>\n",
       "      <td>AGER_TYP</td>\n",
       "      <td>person</td>\n",
       "      <td>categorical</td>\n",
       "      <td>[-1, 0]</td>\n",
       "    </tr>\n",
       "    <tr>\n",
       "      <th>1</th>\n",
       "      <td>ALTERSKATEGORIE_GROB</td>\n",
       "      <td>person</td>\n",
       "      <td>ordinal</td>\n",
       "      <td>[-1, 0, 9]</td>\n",
       "    </tr>\n",
       "    <tr>\n",
       "      <th>2</th>\n",
       "      <td>ANREDE_KZ</td>\n",
       "      <td>person</td>\n",
       "      <td>categorical</td>\n",
       "      <td>[-1, 0]</td>\n",
       "    </tr>\n",
       "    <tr>\n",
       "      <th>3</th>\n",
       "      <td>CJT_GESAMTTYP</td>\n",
       "      <td>person</td>\n",
       "      <td>categorical</td>\n",
       "      <td>[0]</td>\n",
       "    </tr>\n",
       "    <tr>\n",
       "      <th>4</th>\n",
       "      <td>FINANZ_MINIMALIST</td>\n",
       "      <td>person</td>\n",
       "      <td>ordinal</td>\n",
       "      <td>[-1]</td>\n",
       "    </tr>\n",
       "  </tbody>\n",
       "</table>\n",
       "</div>"
      ],
      "text/plain": [
       "              attribute information_level         type missing_or_unknown\n",
       "0              AGER_TYP            person  categorical            [-1, 0]\n",
       "1  ALTERSKATEGORIE_GROB            person      ordinal         [-1, 0, 9]\n",
       "2             ANREDE_KZ            person  categorical            [-1, 0]\n",
       "3         CJT_GESAMTTYP            person  categorical                [0]\n",
       "4     FINANZ_MINIMALIST            person      ordinal               [-1]"
      ]
     },
     "execution_count": 114,
     "metadata": {},
     "output_type": "execute_result"
    }
   ],
   "source": [
    "feat_info.reset_index(['attribute'], inplace=True)\n",
    "feat_info.head()"
   ]
  },
  {
   "cell_type": "code",
   "execution_count": 115,
   "metadata": {},
   "outputs": [],
   "source": [
    "for azdias_missing_data in azdias_missing_data:\n",
    "    feat_info_miss_data_columns = feat_info[feat_info[\"attribute\"] == azdias_missing_data].index[0]\n",
    "    feat_info.drop(feat_info_miss_data_columns,axis = 0,inplace=True)"
   ]
  },
  {
   "cell_type": "code",
   "execution_count": 116,
   "metadata": {},
   "outputs": [
    {
     "data": {
      "text/plain": [
       "(79, 4)"
      ]
     },
     "execution_count": 116,
     "metadata": {},
     "output_type": "execute_result"
    }
   ],
   "source": [
    "feat_info.shape"
   ]
  },
  {
   "cell_type": "code",
   "execution_count": 117,
   "metadata": {},
   "outputs": [
    {
     "data": {
      "text/plain": [
       "ordinal        49\n",
       "categorical    18\n",
       "mixed           6\n",
       "numeric         6\n",
       "Name: type, dtype: int64"
      ]
     },
     "execution_count": 117,
     "metadata": {},
     "output_type": "execute_result"
    }
   ],
   "source": [
    "# How many features are there of each data type?\n",
    "feat_info.type.value_counts()"
   ]
  },
  {
   "cell_type": "markdown",
   "metadata": {},
   "source": [
    "#### Step 1.2.1: Re-Encode Categorical Features\n",
    "\n",
    "For categorical data, you would ordinarily need to encode the levels as dummy variables. Depending on the number of categories, perform one of the following:\n",
    "- For binary (two-level) categoricals that take numeric values, you can keep them without needing to do anything.\n",
    "- There is one binary variable that takes on non-numeric values. For this one, you need to re-encode the values as numbers or create a dummy variable.\n",
    "- For multi-level categoricals (three or more values), you can choose to encode the values using multiple dummy variables (e.g. via [OneHotEncoder](http://scikit-learn.org/stable/modules/generated/sklearn.preprocessing.OneHotEncoder.html)), or (to keep things straightforward) just drop them from the analysis. As always, document your choices in the Discussion section."
   ]
  },
  {
   "cell_type": "code",
   "execution_count": 118,
   "metadata": {},
   "outputs": [
    {
     "data": {
      "text/plain": [
       "2            ANREDE_KZ\n",
       "3        CJT_GESAMTTYP\n",
       "10           FINANZTYP\n",
       "12     GFK_URLAUBERTYP\n",
       "13    GREEN_AVANTGARDE\n",
       "17     LP_FAMILIE_FEIN\n",
       "18     LP_FAMILIE_GROB\n",
       "19      LP_STATUS_FEIN\n",
       "20      LP_STATUS_GROB\n",
       "21    NATIONALITAET_KZ\n",
       "38         SHOPPER_TYP\n",
       "39             SOHO_KZ\n",
       "41            VERS_TYP\n",
       "42            ZABEOTYP\n",
       "52         GEBAEUDETYP\n",
       "55         OST_WEST_KZ\n",
       "57     CAMEO_DEUG_2015\n",
       "58      CAMEO_DEU_2015\n",
       "Name: attribute, dtype: object"
      ]
     },
     "execution_count": 118,
     "metadata": {},
     "output_type": "execute_result"
    }
   ],
   "source": [
    "# Assess categorical variables: which are binary, which are multi-level, and\n",
    "# which one needs to be re-encoded?\n",
    "categorical_variables = feat_info[feat_info.type == 'categorical'].attribute \n",
    "categorical_variables"
   ]
  },
  {
   "cell_type": "code",
   "execution_count": 119,
   "metadata": {},
   "outputs": [
    {
     "name": "stdout",
     "output_type": "stream",
     "text": [
      "The number of value in ANREDE_KZ is equal to 2\n",
      "The number of value in CJT_GESAMTTYP is equal to 6\n",
      "The number of value in FINANZTYP is equal to 6\n",
      "The number of value in GFK_URLAUBERTYP is equal to 12\n",
      "The number of value in GREEN_AVANTGARDE is equal to 2\n",
      "The number of value in LP_FAMILIE_FEIN is equal to 11\n",
      "The number of value in LP_FAMILIE_GROB is equal to 5\n",
      "The number of value in LP_STATUS_FEIN is equal to 10\n",
      "The number of value in LP_STATUS_GROB is equal to 5\n",
      "The number of value in NATIONALITAET_KZ is equal to 3\n",
      "The number of value in SHOPPER_TYP is equal to 4\n",
      "The number of value in SOHO_KZ is equal to 2\n",
      "The number of value in VERS_TYP is equal to 2\n",
      "The number of value in ZABEOTYP is equal to 6\n",
      "The number of value in GEBAEUDETYP is equal to 7\n",
      "The number of value in OST_WEST_KZ is equal to 2\n",
      "The number of value in CAMEO_DEUG_2015 is equal to 9\n",
      "The number of value in CAMEO_DEU_2015 is equal to 44\n"
     ]
    }
   ],
   "source": [
    "for i in categorical_variables:\n",
    "    print(\"The number of value in \"+ i +\" is equal to \" + str(azdias[i].value_counts().count()))"
   ]
  },
  {
   "cell_type": "code",
   "execution_count": 120,
   "metadata": {},
   "outputs": [],
   "source": [
    "binary_level = []\n",
    "multi_level = []\n",
    "\n",
    "for i in categorical_variables:\n",
    "    if azdias[i].value_counts().count() <=2:\n",
    "        binary_level.append(i)\n",
    "    else:\n",
    "        multi_level.append(i)"
   ]
  },
  {
   "cell_type": "code",
   "execution_count": 121,
   "metadata": {},
   "outputs": [
    {
     "name": "stdout",
     "output_type": "stream",
     "text": [
      "ANREDE_KZ [2 1]\n",
      "GREEN_AVANTGARDE [0 1]\n",
      "SOHO_KZ [ 1.  0.]\n",
      "VERS_TYP [  2.   1.  nan]\n",
      "OST_WEST_KZ ['W' 'O']\n",
      "\n",
      "The number of binary-level variables is  5\n"
     ]
    }
   ],
   "source": [
    "for i in binary_level:\n",
    "    print(i ,azdias[i].unique())\n",
    "    \n",
    "print('\\nThe number of binary-level variables is ',len(binary_level))"
   ]
  },
  {
   "cell_type": "code",
   "execution_count": 122,
   "metadata": {},
   "outputs": [
    {
     "name": "stdout",
     "output_type": "stream",
     "text": [
      "CJT_GESAMTTYP [  5.   3.   2.   4.   1.   6.  nan]\n",
      "FINANZTYP [1 6 5 2 4 3]\n",
      "GFK_URLAUBERTYP [ 10.   1.   5.  12.   9.   3.   8.  11.   4.   2.   7.   6.  nan]\n",
      "LP_FAMILIE_FEIN [  5.   1.  nan  10.   2.   7.  11.   8.   4.   6.   9.   3.]\n",
      "LP_FAMILIE_GROB [  3.   1.  nan   5.   2.   4.]\n",
      "LP_STATUS_FEIN [  2.   3.   9.   4.   1.  10.   5.   8.   6.   7.  nan]\n",
      "LP_STATUS_GROB [  1.   2.   4.   5.   3.  nan]\n",
      "NATIONALITAET_KZ [  1.   3.   2.  nan]\n",
      "SHOPPER_TYP [  3.   2.   1.   0.  nan]\n",
      "ZABEOTYP [5 3 4 1 6 2]\n",
      "GEBAEUDETYP [ 8.  1.  3.  2.  6.  4.  5.]\n",
      "CAMEO_DEUG_2015 ['8' '4' '2' '6' '1' '9' '5' '7' nan '3']\n",
      "CAMEO_DEU_2015 ['8A' '4C' '2A' '6B' '8C' '4A' '2D' '1A' '1E' '9D' '5C' '8B' '7A' '5D' '9E'\n",
      " nan '9B' '1B' '3D' '4E' '4B' '3C' '5A' '7B' '9A' '6D' '6E' '2C' '7C' '9C'\n",
      " '7D' '5E' '1D' '8D' '6C' '6A' '5B' '4D' '3A' '2B' '7E' '3B' '6F' '5F' '1C']\n",
      "\n",
      "The number of multi-level variables is  13\n"
     ]
    }
   ],
   "source": [
    "for i in multi_level:\n",
    "    print(i ,azdias[i].unique())\n",
    "    \n",
    "print('\\nThe number of multi-level variables is ',len(multi_level))"
   ]
  },
  {
   "cell_type": "code",
   "execution_count": 123,
   "metadata": {},
   "outputs": [],
   "source": [
    "# Re-encode categorical variable(s) to be kept in the analysis.\n",
    "# re-encode only the binary variable OST_WEST_KZ, which takes on non-numeric values  \n",
    "azdias['OST_WEST_KZ'].replace(['W','O'],[0,1],inplace =True)"
   ]
  },
  {
   "cell_type": "code",
   "execution_count": 124,
   "metadata": {},
   "outputs": [
    {
     "name": "stdout",
     "output_type": "stream",
     "text": [
      "ANREDE_KZ [2 1]\n",
      "GREEN_AVANTGARDE [0 1]\n",
      "SOHO_KZ [ 1.  0.]\n",
      "VERS_TYP [  2.   1.  nan]\n",
      "OST_WEST_KZ [0 1]\n"
     ]
    }
   ],
   "source": [
    "for i in binary_level:\n",
    "    print(i ,azdias[i].unique())"
   ]
  },
  {
   "cell_type": "code",
   "execution_count": 125,
   "metadata": {},
   "outputs": [],
   "source": [
    "# deop the multi-level categoricals \n",
    "azdias.drop(multi_level, axis =1,inplace=True)"
   ]
  },
  {
   "cell_type": "markdown",
   "metadata": {},
   "source": [
    "#### Discussion 1.2.1: Re-Encode Categorical Features\n",
    "\n",
    "After assessing the categorical variables there were 5 binary variables,  13 multi-level variables, I chose to keep it straightforward and drop the multi-level variables. I re-encoded only the binary variable OST_WEST_KZ, which takes on non-numeric values 'W','O' to the values 0 and 1. "
   ]
  },
  {
   "cell_type": "markdown",
   "metadata": {},
   "source": [
    "#### Step 1.2.2: Engineer Mixed-Type Features\n",
    "\n",
    "There are a handful of features that are marked as \"mixed\" in the feature summary that require special treatment in order to be included in the analysis. There are two in particular that deserve attention; the handling of the rest are up to your own choices:\n",
    "- \"PRAEGENDE_JUGENDJAHRE\" combines information on three dimensions: generation by decade, movement (mainstream vs. avantgarde), and nation (east vs. west). While there aren't enough levels to disentangle east from west, you should create two new variables to capture the other two dimensions: an interval-type variable for decade, and a binary variable for movement.\n",
    "- \"CAMEO_INTL_2015\" combines information on two axes: wealth and life stage. Break up the two-digit codes by their 'tens'-place and 'ones'-place digits into two new ordinal variables (which, for the purposes of this project, is equivalent to just treating them as their raw numeric values).\n",
    "- If you decide to keep or engineer new features around the other mixed-type features, make sure you note your steps in the Discussion section.\n",
    "\n",
    "Be sure to check `Data_Dictionary.md` for the details needed to finish these tasks."
   ]
  },
  {
   "cell_type": "markdown",
   "metadata": {},
   "source": [
    "PRAEGENDE_JUGENDJAHRE\n",
    "Dominating movement of person's youth (avantgarde vs. mainstream; east vs. west)\n",
    "- -1: unknown\n",
    "-  0: unknown\n",
    "-  1: 40s - war years (Mainstream, E+W)\n",
    "-  2: 40s - reconstruction years (Avantgarde, E+W)\n",
    "-  3: 50s - economic miracle (Mainstream, E+W)\n",
    "-  4: 50s - milk bar / Individualisation (Avantgarde, E+W)\n",
    "-  5: 60s - economic miracle (Mainstream, E+W)\n",
    "-  6: 60s - generation 68 / student protestors (Avantgarde, W)\n",
    "-  7: 60s - opponents to the building of the Wall (Avantgarde, E)\n",
    "-  8: 70s - family orientation (Mainstream, E+W)\n",
    "-  9: 70s - peace movement (Avantgarde, E+W)\n",
    "- 10: 80s - Generation Golf (Mainstream, W)\n",
    "- 11: 80s - ecological awareness (Avantgarde, W)\n",
    "- 12: 80s - FDJ / communist party youth organisation (Mainstream, E)\n",
    "- 13: 80s - Swords into ploughshares (Avantgarde, E)\n",
    "- 14: 90s - digital media kids (Mainstream, E+W)\n",
    "- 15: 90s - ecological awareness (Avantgarde, E+W)\n",
    "\n",
    "\n",
    " Movement:\n",
    "- Mainstream = 0\n",
    "- Avantgarde = 1\n",
    "\n",
    "Decade:\n",
    "- 40s = 1\n",
    "- 50s = 2\n",
    "- 60s = 3\n",
    "- 70s = 4\n",
    "- 80s = 5\n",
    "- 90s = 6\n"
   ]
  },
  {
   "cell_type": "code",
   "execution_count": 126,
   "metadata": {},
   "outputs": [
    {
     "data": {
      "text/plain": [
       "14.0    182833\n",
       "8.0     141504\n",
       "10.0     85746\n",
       "5.0      84649\n",
       "3.0      53811\n",
       "15.0     42500\n",
       "11.0     35729\n",
       "9.0      33560\n",
       "6.0      25649\n",
       "12.0     24436\n",
       "1.0      20639\n",
       "4.0      20450\n",
       "2.0       7479\n",
       "13.0      5759\n",
       "7.0       4009\n",
       "Name: PRAEGENDE_JUGENDJAHRE, dtype: int64"
      ]
     },
     "execution_count": 126,
     "metadata": {},
     "output_type": "execute_result"
    }
   ],
   "source": [
    "# Investigate \"PRAEGENDE_JUGENDJAHRE\"\n",
    "azdias.PRAEGENDE_JUGENDJAHRE.value_counts()"
   ]
  },
  {
   "cell_type": "code",
   "execution_count": 127,
   "metadata": {},
   "outputs": [],
   "source": [
    "# Engineer \"PRAEGENDE_JUGENDJAHRE\" INTO two new variables.\n",
    "PJ_Movement = {1:1 , 2:1 , 3:2 , 4:2 , 5:3 , 6:3 , 7:3 , 8:4 , 9:4 , 10:5 , 11:5 , 12:5 , 13:5 , 14:6 , 15:6}\n",
    "PJ_Decade   = {1:1 , 2:0 , 3:1 , 4:0 , 5:1 , 6:0 , 7:0 , 8:1 , 9:0 , 10:1 , 11:0 , 12:1 , 13:0 , 14:1 , 15:0}"
   ]
  },
  {
   "cell_type": "code",
   "execution_count": 128,
   "metadata": {},
   "outputs": [],
   "source": [
    "azdias['Movement'] = azdias[\"PRAEGENDE_JUGENDJAHRE\"]\n",
    "azdias['Decade'] = azdias[\"PRAEGENDE_JUGENDJAHRE\"]\n",
    "\n",
    "azdias['Movement'].replace(PJ_Movement, inplace = True)\n",
    "azdias['Decade'].replace(PJ_Decade, inplace = True)"
   ]
  },
  {
   "cell_type": "code",
   "execution_count": 129,
   "metadata": {},
   "outputs": [
    {
     "data": {
      "text/plain": [
       "6.0    225333\n",
       "4.0    175064\n",
       "5.0    151670\n",
       "3.0    114307\n",
       "2.0     74261\n",
       "1.0     28118\n",
       "Name: Movement, dtype: int64"
      ]
     },
     "execution_count": 129,
     "metadata": {},
     "output_type": "execute_result"
    }
   ],
   "source": [
    "azdias.Movement.value_counts()"
   ]
  },
  {
   "cell_type": "code",
   "execution_count": 130,
   "metadata": {},
   "outputs": [
    {
     "data": {
      "text/plain": [
       "1.0    593618\n",
       "0.0    175135\n",
       "Name: Decade, dtype: int64"
      ]
     },
     "execution_count": 130,
     "metadata": {},
     "output_type": "execute_result"
    }
   ],
   "source": [
    "azdias.Decade.value_counts()"
   ]
  },
  {
   "cell_type": "markdown",
   "metadata": {},
   "source": [
    "CAMEO_INTL_2015\n",
    "German CAMEO: Wealth / Life Stage Typology, mapped to international code\n",
    "- -1: unknown\n",
    "- 11: Wealthy Households - Pre-Family Couples & Singles\n",
    "- 12: Wealthy Households - Young Couples With Children\n",
    "- 13: Wealthy Households - Families With School Age Children\n",
    "- 14: Wealthy Households - Older Families &  Mature Couples\n",
    "- 15: Wealthy Households - Elders In Retirement\n",
    "- 21: Prosperous Households - Pre-Family Couples & Singles\n",
    "- 22: Prosperous Households - Young Couples With Children\n",
    "- 23: Prosperous Households - Families With School Age Children\n",
    "- 24: Prosperous Households - Older Families & Mature Couples\n",
    "- 25: Prosperous Households - Elders In Retirement\n",
    "- 31: Comfortable Households - Pre-Family Couples & Singles\n",
    "- 32: Comfortable Households - Young Couples With Children\n",
    "- 33: Comfortable Households - Families With School Age Children\n",
    "- 34: Comfortable Households - Older Families & Mature Couples\n",
    "- 35: Comfortable Households - Elders In Retirement\n",
    "- 41: Less Affluent Households - Pre-Family Couples & Singles\n",
    "- 42: Less Affluent Households - Young Couples With Children\n",
    "- 43: Less Affluent Households - Families With School Age Children\n",
    "- 44: Less Affluent Households - Older Families & Mature Couples\n",
    "- 45: Less Affluent Households - Elders In Retirement\n",
    "- 51: Poorer Households - Pre-Family Couples & Singles\n",
    "- 52: Poorer Households - Young Couples With Children\n",
    "- 53: Poorer Households - Families With School Age Children\n",
    "- 54: Poorer Households - Older Families & Mature Couples\n",
    "- 55: Poorer Households - Elders In Retirement\n",
    "- XX: unknown"
   ]
  },
  {
   "cell_type": "code",
   "execution_count": 131,
   "metadata": {},
   "outputs": [
    {
     "data": {
      "text/plain": [
       "51    133665\n",
       "41     92297\n",
       "24     91070\n",
       "14     62833\n",
       "43     56642\n",
       "54     45366\n",
       "25     39593\n",
       "22     33128\n",
       "23     26635\n",
       "13     26305\n",
       "45     26122\n",
       "55     23928\n",
       "52     20537\n",
       "31     18952\n",
       "34     18511\n",
       "15     16965\n",
       "44     14815\n",
       "12     13226\n",
       "35     10349\n",
       "32     10345\n",
       "33      9926\n",
       "Name: CAMEO_INTL_2015, dtype: int64"
      ]
     },
     "execution_count": 131,
     "metadata": {},
     "output_type": "execute_result"
    }
   ],
   "source": [
    "# Investigate \"CAMEO_INTL_2015\"\n",
    "azdias.CAMEO_INTL_2015.value_counts()"
   ]
  },
  {
   "cell_type": "code",
   "execution_count": 132,
   "metadata": {},
   "outputs": [],
   "source": [
    "# Engineer\"CAMEO_INTL_2015\" INTO two new variables.\n",
    "CI_2015_wealth = {'11':1 , '12':1 , '13':1 , '14':1 , '15':1 ,\n",
    "                  '21':2 , '22':2 , '23':2 , '24':2 , '25':2 ,\n",
    "                  '31':3 , '32':3 , '33':3 , '34':3 , '35':3 ,\n",
    "                  '41':4 , '42':4 , '43':4 , '44':4 , '45':4 ,\n",
    "                  '51':5 , '52':5 , '53':5 , '54':5 , '55':5 }\n",
    "\n",
    "CI_2015_life   = {'11':1 , '12':2 , '13':3 , '14':4 , '15':5 ,\n",
    "                  '21':1 , '22':2 , '23':3 , '24':4 , '25':5 ,\n",
    "                  '31':1 , '32':2 , '33':3 , '34':4 , '35':5 ,\n",
    "                  '41':1 , '42':2 , '43':3 , '44':4 , '45':5 ,\n",
    "                  '51':1 , '52':2 , '53':3 , '54':4 , '55':5 }"
   ]
  },
  {
   "cell_type": "code",
   "execution_count": 133,
   "metadata": {},
   "outputs": [],
   "source": [
    "azdias['wealth'] = azdias[\"CAMEO_INTL_2015\"]\n",
    "azdias['life'] = azdias[\"CAMEO_INTL_2015\"]\n",
    "\n",
    "azdias['wealth'].replace(CI_2015_wealth, inplace = True)\n",
    "azdias['life'].replace(CI_2015_life, inplace = True)"
   ]
  },
  {
   "cell_type": "code",
   "execution_count": 134,
   "metadata": {},
   "outputs": [
    {
     "data": {
      "text/plain": [
       "5.0    223496\n",
       "2.0    190426\n",
       "4.0    189876\n",
       "1.0    119329\n",
       "3.0     68083\n",
       "Name: wealth, dtype: int64"
      ]
     },
     "execution_count": 134,
     "metadata": {},
     "output_type": "execute_result"
    }
   ],
   "source": [
    "azdias.wealth.value_counts()"
   ]
  },
  {
   "cell_type": "code",
   "execution_count": 135,
   "metadata": {},
   "outputs": [
    {
     "data": {
      "text/plain": [
       "1.0    244914\n",
       "4.0    232595\n",
       "3.0    119508\n",
       "5.0    116957\n",
       "2.0     77236\n",
       "Name: life, dtype: int64"
      ]
     },
     "execution_count": 135,
     "metadata": {},
     "output_type": "execute_result"
    }
   ],
   "source": [
    "azdias.life.value_counts()"
   ]
  },
  {
   "cell_type": "code",
   "execution_count": 136,
   "metadata": {},
   "outputs": [
    {
     "data": {
      "text/plain": [
       "15      LP_LEBENSPHASE_FEIN\n",
       "16      LP_LEBENSPHASE_GROB\n",
       "22    PRAEGENDE_JUGENDJAHRE\n",
       "56                 WOHNLAGE\n",
       "59          CAMEO_INTL_2015\n",
       "79              PLZ8_BAUMAX\n",
       "Name: attribute, dtype: object"
      ]
     },
     "execution_count": 136,
     "metadata": {},
     "output_type": "execute_result"
    }
   ],
   "source": [
    "# deop the rest of Mixed-Type Features including (PRAEGENDE_JUGENDJAHRE & CAMEO_INTL_2015)  \n",
    "mixed_Features = feat_info[feat_info[\"type\"] == \"mixed\"].attribute\n",
    "mixed_Features"
   ]
  },
  {
   "cell_type": "code",
   "execution_count": 137,
   "metadata": {},
   "outputs": [],
   "source": [
    "azdias.drop(mixed_Features, axis =1,inplace=True)"
   ]
  },
  {
   "cell_type": "markdown",
   "metadata": {},
   "source": [
    "#### Discussion 1.2.2: Engineer Mixed-Type Features\n",
    "\n",
    "I engineered \"PRAEGENDE_JUGENDJAHRE\" into two new varible movement and descend, I do the same for \"CAMEO_INTL_2015\" and engineered it into two variables named wealth and life; I decided to drop the rest of the mixed varibles, which is LP_LEBENSPHASE_FEIN\n",
    "LP_LEBENSPHASE_GROB \n",
    "WOHNLAGE \n",
    "PLZ8_BAUMAX."
   ]
  },
  {
   "cell_type": "markdown",
   "metadata": {},
   "source": [
    "#### Step 1.2.3: Complete Feature Selection\n",
    "\n",
    "In order to finish this step up, you need to make sure that your data frame now only has the columns that you want to keep. To summarize, the dataframe should consist of the following:\n",
    "- All numeric, interval, and ordinal type columns from the original dataset.\n",
    "- Binary categorical features (all numerically-encoded).\n",
    "- Engineered features from other multi-level categorical features and mixed features.\n",
    "\n",
    "Make sure that for any new columns that you have engineered, that you've excluded the original columns from the final dataset. Otherwise, their values will interfere with the analysis later on the project. For example, you should not keep \"PRAEGENDE_JUGENDJAHRE\", since its values won't be useful for the algorithm: only the values derived from it in the engineered features you created should be retained. As a reminder, your data should only be from **the subset with few or no missing values**."
   ]
  },
  {
   "cell_type": "code",
   "execution_count": 138,
   "metadata": {},
   "outputs": [],
   "source": [
    "# If there are other re-engineering tasks you need to perform, make sure you\n",
    "# take care of them here. (Dealing with missing data will come in step 2.1.)\n"
   ]
  },
  {
   "cell_type": "code",
   "execution_count": 139,
   "metadata": {},
   "outputs": [
    {
     "name": "stdout",
     "output_type": "stream",
     "text": [
      "<class 'pandas.core.frame.DataFrame'>\n",
      "Int64Index: 797077 entries, 1 to 891220\n",
      "Data columns (total 64 columns):\n",
      "ALTERSKATEGORIE_GROB     794304 non-null float64\n",
      "ANREDE_KZ                797077 non-null int64\n",
      "FINANZ_MINIMALIST        797077 non-null int64\n",
      "FINANZ_SPARER            797077 non-null int64\n",
      "FINANZ_VORSORGER         797077 non-null int64\n",
      "FINANZ_ANLEGER           797077 non-null int64\n",
      "FINANZ_UNAUFFAELLIGER    797077 non-null int64\n",
      "FINANZ_HAUSBAUER         797077 non-null int64\n",
      "GREEN_AVANTGARDE         797077 non-null int64\n",
      "HEALTH_TYP               760739 non-null float64\n",
      "RETOURTYP_BK_S           792445 non-null float64\n",
      "SEMIO_SOZ                797077 non-null int64\n",
      "SEMIO_FAM                797077 non-null int64\n",
      "SEMIO_REL                797077 non-null int64\n",
      "SEMIO_MAT                797077 non-null int64\n",
      "SEMIO_VERT               797077 non-null int64\n",
      "SEMIO_LUST               797077 non-null int64\n",
      "SEMIO_ERL                797077 non-null int64\n",
      "SEMIO_KULT               797077 non-null int64\n",
      "SEMIO_RAT                797077 non-null int64\n",
      "SEMIO_KRIT               797077 non-null int64\n",
      "SEMIO_DOM                797077 non-null int64\n",
      "SEMIO_KAEM               797077 non-null int64\n",
      "SEMIO_PFLICHT            797077 non-null int64\n",
      "SEMIO_TRADV              797077 non-null int64\n",
      "SOHO_KZ                  797077 non-null float64\n",
      "VERS_TYP                 760739 non-null float64\n",
      "ANZ_PERSONEN             797077 non-null float64\n",
      "ANZ_TITEL                797077 non-null float64\n",
      "HH_EINKOMMEN_SCORE       797077 non-null float64\n",
      "W_KEIT_KIND_HH           738362 non-null float64\n",
      "WOHNDAUER_2008           797077 non-null float64\n",
      "ANZ_HAUSHALTE_AKTIV      790791 non-null float64\n",
      "ANZ_HH_TITEL             793391 non-null float64\n",
      "KONSUMNAEHE              797015 non-null float64\n",
      "MIN_GEBAEUDEJAHR         797077 non-null float64\n",
      "OST_WEST_KZ              797077 non-null int64\n",
      "KBA05_ANTG1              757883 non-null float64\n",
      "KBA05_ANTG2              757883 non-null float64\n",
      "KBA05_ANTG3              757883 non-null float64\n",
      "KBA05_ANTG4              757883 non-null float64\n",
      "KBA05_GBZ                757883 non-null float64\n",
      "BALLRAUM                 796490 non-null float64\n",
      "EWDICHTE                 796490 non-null float64\n",
      "INNENSTADT               796490 non-null float64\n",
      "GEBAEUDETYP_RASTER       797072 non-null float64\n",
      "KKK                      732922 non-null float64\n",
      "MOBI_REGIO               757883 non-null float64\n",
      "ONLINE_AFFINITAET        792445 non-null float64\n",
      "REGIOTYP                 732922 non-null float64\n",
      "KBA13_ANZAHL_PKW         785011 non-null float64\n",
      "PLZ8_ANTG1               774695 non-null float64\n",
      "PLZ8_ANTG2               774695 non-null float64\n",
      "PLZ8_ANTG3               774695 non-null float64\n",
      "PLZ8_ANTG4               774695 non-null float64\n",
      "PLZ8_HHZ                 774695 non-null float64\n",
      "PLZ8_GBZ                 774695 non-null float64\n",
      "ARBEIT                   792859 non-null float64\n",
      "ORTSGR_KLS9              792959 non-null float64\n",
      "RELAT_AB                 792859 non-null float64\n",
      "Movement                 768753 non-null float64\n",
      "Decade                   768753 non-null float64\n",
      "wealth                   791210 non-null float64\n",
      "life                     791210 non-null float64\n",
      "dtypes: float64(41), int64(23)\n",
      "memory usage: 395.3 MB\n"
     ]
    }
   ],
   "source": [
    "# Do whatever you need to in order to ensure that the dataframe only contains\n",
    "# the columns that should be passed to the algorithm functions.\n",
    "azdias.info()"
   ]
  },
  {
   "cell_type": "code",
   "execution_count": 140,
   "metadata": {},
   "outputs": [
    {
     "data": {
      "text/plain": [
       "(797077, 64)"
      ]
     },
     "execution_count": 140,
     "metadata": {},
     "output_type": "execute_result"
    }
   ],
   "source": [
    "azdias.shape"
   ]
  },
  {
   "cell_type": "code",
   "execution_count": 141,
   "metadata": {},
   "outputs": [
    {
     "data": {
      "text/plain": [
       "Index(['ALTERSKATEGORIE_GROB', 'ANREDE_KZ', 'FINANZ_MINIMALIST',\n",
       "       'FINANZ_SPARER', 'FINANZ_VORSORGER', 'FINANZ_ANLEGER',\n",
       "       'FINANZ_UNAUFFAELLIGER', 'FINANZ_HAUSBAUER', 'GREEN_AVANTGARDE',\n",
       "       'HEALTH_TYP', 'RETOURTYP_BK_S', 'SEMIO_SOZ', 'SEMIO_FAM', 'SEMIO_REL',\n",
       "       'SEMIO_MAT', 'SEMIO_VERT', 'SEMIO_LUST', 'SEMIO_ERL', 'SEMIO_KULT',\n",
       "       'SEMIO_RAT', 'SEMIO_KRIT', 'SEMIO_DOM', 'SEMIO_KAEM', 'SEMIO_PFLICHT',\n",
       "       'SEMIO_TRADV', 'SOHO_KZ', 'VERS_TYP', 'ANZ_PERSONEN', 'ANZ_TITEL',\n",
       "       'HH_EINKOMMEN_SCORE', 'W_KEIT_KIND_HH', 'WOHNDAUER_2008',\n",
       "       'ANZ_HAUSHALTE_AKTIV', 'ANZ_HH_TITEL', 'KONSUMNAEHE',\n",
       "       'MIN_GEBAEUDEJAHR', 'OST_WEST_KZ', 'KBA05_ANTG1', 'KBA05_ANTG2',\n",
       "       'KBA05_ANTG3', 'KBA05_ANTG4', 'KBA05_GBZ', 'BALLRAUM', 'EWDICHTE',\n",
       "       'INNENSTADT', 'GEBAEUDETYP_RASTER', 'KKK', 'MOBI_REGIO',\n",
       "       'ONLINE_AFFINITAET', 'REGIOTYP', 'KBA13_ANZAHL_PKW', 'PLZ8_ANTG1',\n",
       "       'PLZ8_ANTG2', 'PLZ8_ANTG3', 'PLZ8_ANTG4', 'PLZ8_HHZ', 'PLZ8_GBZ',\n",
       "       'ARBEIT', 'ORTSGR_KLS9', 'RELAT_AB', 'Movement', 'Decade', 'wealth',\n",
       "       'life'],\n",
       "      dtype='object')"
      ]
     },
     "execution_count": 141,
     "metadata": {},
     "output_type": "execute_result"
    }
   ],
   "source": [
    "azdias.columns"
   ]
  },
  {
   "cell_type": "markdown",
   "metadata": {},
   "source": [
    "### Step 1.3: Create a Cleaning Function\n",
    "\n",
    "Even though you've finished cleaning up the general population demographics data, it's important to look ahead to the future and realize that you'll need to perform the same cleaning steps on the customer demographics data. In this substep, complete the function below to execute the main feature selection, encoding, and re-engineering steps you performed above. Then, when it comes to looking at the customer data in Step 3, you can just run this function on that DataFrame to get the trimmed dataset in a single step."
   ]
  },
  {
   "cell_type": "code",
   "execution_count": 142,
   "metadata": {},
   "outputs": [],
   "source": [
    "def clean_data(df):\n",
    "    \"\"\"\n",
    "    Perform feature trimming, re-encoding, and engineering for demographics\n",
    "    data\n",
    "    \n",
    "    INPUT: Demographics DataFrame\n",
    "    OUTPUT: Trimmed and cleaned demographics DataFrame\n",
    "    \"\"\"\n",
    "    \n",
    "    # Put in code here to execute all main cleaning steps:\n",
    "    feat_info = pd.read_csv('AZDIAS_Feature_Summary.csv',delimiter=';')\n",
    "    #1#\n",
    "    # convert missing value codes into NaNs, ...\n",
    "    feat_info['missing_or_unknown'] = feat_info['missing_or_unknown'].str.strip('[').str.strip(']').str.split(',').values\n",
    "   \n",
    "    # make 'attribute' column as index to use it as key\n",
    "    feat_info.set_index(['attribute'], inplace=True)\n",
    "    for index , row  in feat_info.iterrows(): \n",
    "        Record=row['missing_or_unknown']\n",
    "        for i in range(len(Record)): \n",
    "            if ( Record[i] != 'X'and Record[i] != 'XX'and Record[i] != '' ): \n",
    "                Record[i] = int(Record[i])  \n",
    "            else: \n",
    "                Record[i] = Record[i] \n",
    "    for index , row  in feat_info.iterrows():\n",
    "        Record=row['missing_or_unknown']\n",
    "        for i in Record:\n",
    "            df[index].replace(i, np.NaN, inplace=True)\n",
    "\n",
    "            \n",
    "    #2#\n",
    "    # remove selected columns and rows, ...\n",
    "    df_missing_data = ['AGER_TYP', 'GEBURTSJAHR', 'TITEL_KZ', 'ALTER_HH', 'KK_KUNDENTYP', 'KBA05_BAUMAX']\n",
    "    df.drop(df_missing_data, axis =1,inplace=True)\n",
    "\n",
    "    data_less_than_threshold = df[df.isnull().sum(axis=1) < 20]\n",
    "\n",
    "    df = data_less_than_threshold.copy()\n",
    "\n",
    "    feat_info.reset_index(['attribute'], inplace=True)\n",
    "\n",
    "    for df_missing_data in df_missing_data:\n",
    "        feat_info_miss_data_columns = feat_info[feat_info[\"attribute\"] == df_missing_data].index[0]\n",
    "        feat_info.drop(feat_info_miss_data_columns,axis = 0,inplace=True)\n",
    "    \n",
    "    #3#\n",
    "    # select, re-encode, and engineer column values.\n",
    "    categorical_variables = feat_info[feat_info.type == 'categorical'].attribute \n",
    "\n",
    "    binary_level = []\n",
    "    multi_level = []\n",
    "\n",
    "    for i in categorical_variables:\n",
    "        if df[i].value_counts().count() <=2:\n",
    "            binary_level.append(i)\n",
    "        else:\n",
    "            multi_level.append(i)\n",
    "\n",
    "    # re-encode only the binary variable OST_WEST_KZ, which takes on non-numeric values\n",
    "    df['OST_WEST_KZ'].replace(['W','O'],[0,1],inplace =True)\n",
    "    # deop the multi-level categoricals \n",
    "    df.drop(multi_level, axis =1,inplace=True)\n",
    "\n",
    "    # Engineer \"PRAEGENDE_JUGENDJAHRE\" INTO two new variables.\n",
    "    PJ_Movement = {1:1 , 2:1 , 3:2 , 4:2 , 5:3 , 6:3 , 7:3 , 8:4 , 9:4 , 10:5 , 11:5 , 12:5 , 13:5 , 14:6 , 15:6}\n",
    "    PJ_Decade   = {1:1 , 2:0 , 3:1 , 4:0 , 5:1 , 6:0 , 7:0 , 8:1 , 9:0 , 10:1 , 11:0 , 12:1 , 13:0 , 14:1 , 15:0}\n",
    "    df['Movement'] = df[\"PRAEGENDE_JUGENDJAHRE\"]\n",
    "    df['Decade'] = df[\"PRAEGENDE_JUGENDJAHRE\"]\n",
    "\n",
    "    df['Movement'].replace(PJ_Movement, inplace = True)\n",
    "    df['Decade'].replace(PJ_Decade, inplace = True)\n",
    "\n",
    "    # Engineer\"CAMEO_INTL_2015\" INTO two new variables.\n",
    "    CI_2015_wealth = {'11':1 , '12':1 , '13':1 , '14':1 , '15':1 ,\n",
    "                  '21':2 , '22':2 , '23':2 , '24':2 , '25':2 ,\n",
    "                  '31':3 , '32':3 , '33':3 , '34':3 , '35':3 ,\n",
    "                  '41':4 , '42':4 , '43':4 , '44':4 , '45':4 ,\n",
    "                  '51':5 , '52':5 , '53':5 , '54':5 , '55':5 }\n",
    "\n",
    "    CI_2015_life   = {'11':1 , '12':2 , '13':3 , '14':4 , '15':5 ,\n",
    "                  '21':1 , '22':2 , '23':3 , '24':4 , '25':5 ,\n",
    "                  '31':1 , '32':2 , '33':3 , '34':4 , '35':5 ,\n",
    "                  '41':1 , '42':2 , '43':3 , '44':4 , '45':5 ,\n",
    "                  '51':1 , '52':2 , '53':3 , '54':4 , '55':5 }\n",
    "    \n",
    "    df['wealth'] = df[\"CAMEO_INTL_2015\"]\n",
    "    df['life'] = df[\"CAMEO_INTL_2015\"]\n",
    "\n",
    "    df['wealth'].replace(CI_2015_wealth, inplace = True)\n",
    "    df['life'].replace(CI_2015_life, inplace = True)\n",
    "\n",
    "    # deop the rest of Mixed-Type Features including (PRAEGENDE_JUGENDJAHRE & CAMEO_INTL_2015)  \n",
    "    mixed_Features = feat_info[feat_info[\"type\"] == \"mixed\"].attribute\n",
    "    df.drop(mixed_Features, axis =1,inplace=True)\n",
    "    \n",
    "    #4#\n",
    "    # Return the cleaned dataframe.\n",
    "    return df\n",
    "    "
   ]
  },
  {
   "cell_type": "code",
   "execution_count": 143,
   "metadata": {},
   "outputs": [],
   "source": [
    "azdias_test = clean_data(azdias_test)"
   ]
  },
  {
   "cell_type": "code",
   "execution_count": 144,
   "metadata": {},
   "outputs": [
    {
     "data": {
      "text/plain": [
       "(797077, 64)"
      ]
     },
     "execution_count": 144,
     "metadata": {},
     "output_type": "execute_result"
    }
   ],
   "source": [
    "azdias_test.shape"
   ]
  },
  {
   "cell_type": "code",
   "execution_count": 145,
   "metadata": {},
   "outputs": [
    {
     "data": {
      "text/plain": [
       "745996"
      ]
     },
     "execution_count": 145,
     "metadata": {},
     "output_type": "execute_result"
    }
   ],
   "source": [
    "azdias_test.isnull().sum().sum()"
   ]
  },
  {
   "cell_type": "code",
   "execution_count": 146,
   "metadata": {},
   "outputs": [
    {
     "data": {
      "text/plain": [
       "(797077, 64)"
      ]
     },
     "execution_count": 146,
     "metadata": {},
     "output_type": "execute_result"
    }
   ],
   "source": [
    "azdias.shape"
   ]
  },
  {
   "cell_type": "code",
   "execution_count": 147,
   "metadata": {},
   "outputs": [
    {
     "data": {
      "text/plain": [
       "745996"
      ]
     },
     "execution_count": 147,
     "metadata": {},
     "output_type": "execute_result"
    }
   ],
   "source": [
    "azdias.isnull().sum().sum()"
   ]
  },
  {
   "cell_type": "markdown",
   "metadata": {},
   "source": [
    "## Step 2: Feature Transformation\n",
    "\n",
    "### Step 2.1: Apply Feature Scaling\n",
    "\n",
    "Before we apply dimensionality reduction techniques to the data, we need to perform feature scaling so that the principal component vectors are not influenced by the natural differences in scale for features. Starting from this part of the project, you'll want to keep an eye on the [API reference page for sklearn](http://scikit-learn.org/stable/modules/classes.html) to help you navigate to all of the classes and functions that you'll need. In this substep, you'll need to check the following:\n",
    "\n",
    "- sklearn requires that data not have missing values in order for its estimators to work properly. So, before applying the scaler to your data, make sure that you've cleaned the DataFrame of the remaining missing values. This can be as simple as just removing all data points with missing data, or applying an [Imputer](https://scikit-learn.org/0.16/modules/generated/sklearn.preprocessing.Imputer.html) to replace all missing values. You might also try a more complicated procedure where you temporarily remove missing values in order to compute the scaling parameters before re-introducing those missing values and applying imputation. Think about how much missing data you have and what possible effects each approach might have on your analysis, and justify your decision in the discussion section below.\n",
    "- For the actual scaling function, a [StandardScaler](http://scikit-learn.org/stable/modules/generated/sklearn.preprocessing.StandardScaler.html) instance is suggested, scaling each feature to mean 0 and standard deviation 1.\n",
    "- For these classes, you can make use of the `.fit_transform()` method to both fit a procedure to the data as well as apply the transformation to the data at the same time. Don't forget to keep the fit sklearn objects handy, since you'll be applying them to the customer demographics data towards the end of the project."
   ]
  },
  {
   "cell_type": "code",
   "execution_count": 148,
   "metadata": {},
   "outputs": [
    {
     "name": "stdout",
     "output_type": "stream",
     "text": [
      "745996\n"
     ]
    }
   ],
   "source": [
    "print(azdias.isnull().sum().sum())"
   ]
  },
  {
   "cell_type": "code",
   "execution_count": 149,
   "metadata": {},
   "outputs": [
    {
     "data": {
      "text/html": [
       "<div>\n",
       "<style scoped>\n",
       "    .dataframe tbody tr th:only-of-type {\n",
       "        vertical-align: middle;\n",
       "    }\n",
       "\n",
       "    .dataframe tbody tr th {\n",
       "        vertical-align: top;\n",
       "    }\n",
       "\n",
       "    .dataframe thead th {\n",
       "        text-align: right;\n",
       "    }\n",
       "</style>\n",
       "<table border=\"1\" class=\"dataframe\">\n",
       "  <thead>\n",
       "    <tr style=\"text-align: right;\">\n",
       "      <th></th>\n",
       "      <th>ALTERSKATEGORIE_GROB</th>\n",
       "      <th>ANREDE_KZ</th>\n",
       "      <th>FINANZ_MINIMALIST</th>\n",
       "      <th>FINANZ_SPARER</th>\n",
       "      <th>FINANZ_VORSORGER</th>\n",
       "      <th>FINANZ_ANLEGER</th>\n",
       "      <th>FINANZ_UNAUFFAELLIGER</th>\n",
       "      <th>FINANZ_HAUSBAUER</th>\n",
       "      <th>GREEN_AVANTGARDE</th>\n",
       "      <th>HEALTH_TYP</th>\n",
       "      <th>...</th>\n",
       "      <th>PLZ8_ANTG4</th>\n",
       "      <th>PLZ8_HHZ</th>\n",
       "      <th>PLZ8_GBZ</th>\n",
       "      <th>ARBEIT</th>\n",
       "      <th>ORTSGR_KLS9</th>\n",
       "      <th>RELAT_AB</th>\n",
       "      <th>Movement</th>\n",
       "      <th>Decade</th>\n",
       "      <th>wealth</th>\n",
       "      <th>life</th>\n",
       "    </tr>\n",
       "  </thead>\n",
       "  <tbody>\n",
       "    <tr>\n",
       "      <th>0</th>\n",
       "      <td>1.0</td>\n",
       "      <td>2.0</td>\n",
       "      <td>1.0</td>\n",
       "      <td>5.0</td>\n",
       "      <td>2.0</td>\n",
       "      <td>5.0</td>\n",
       "      <td>4.0</td>\n",
       "      <td>5.0</td>\n",
       "      <td>0.0</td>\n",
       "      <td>3.0</td>\n",
       "      <td>...</td>\n",
       "      <td>1.0</td>\n",
       "      <td>5.0</td>\n",
       "      <td>4.0</td>\n",
       "      <td>3.0</td>\n",
       "      <td>5.0</td>\n",
       "      <td>4.0</td>\n",
       "      <td>6.0</td>\n",
       "      <td>1.0</td>\n",
       "      <td>5.0</td>\n",
       "      <td>1.0</td>\n",
       "    </tr>\n",
       "    <tr>\n",
       "      <th>1</th>\n",
       "      <td>3.0</td>\n",
       "      <td>2.0</td>\n",
       "      <td>1.0</td>\n",
       "      <td>4.0</td>\n",
       "      <td>1.0</td>\n",
       "      <td>2.0</td>\n",
       "      <td>3.0</td>\n",
       "      <td>5.0</td>\n",
       "      <td>1.0</td>\n",
       "      <td>3.0</td>\n",
       "      <td>...</td>\n",
       "      <td>0.0</td>\n",
       "      <td>4.0</td>\n",
       "      <td>4.0</td>\n",
       "      <td>3.0</td>\n",
       "      <td>5.0</td>\n",
       "      <td>2.0</td>\n",
       "      <td>6.0</td>\n",
       "      <td>0.0</td>\n",
       "      <td>2.0</td>\n",
       "      <td>4.0</td>\n",
       "    </tr>\n",
       "    <tr>\n",
       "      <th>2</th>\n",
       "      <td>4.0</td>\n",
       "      <td>2.0</td>\n",
       "      <td>4.0</td>\n",
       "      <td>2.0</td>\n",
       "      <td>5.0</td>\n",
       "      <td>2.0</td>\n",
       "      <td>1.0</td>\n",
       "      <td>2.0</td>\n",
       "      <td>0.0</td>\n",
       "      <td>2.0</td>\n",
       "      <td>...</td>\n",
       "      <td>0.0</td>\n",
       "      <td>3.0</td>\n",
       "      <td>4.0</td>\n",
       "      <td>2.0</td>\n",
       "      <td>3.0</td>\n",
       "      <td>3.0</td>\n",
       "      <td>4.0</td>\n",
       "      <td>1.0</td>\n",
       "      <td>1.0</td>\n",
       "      <td>2.0</td>\n",
       "    </tr>\n",
       "    <tr>\n",
       "      <th>3</th>\n",
       "      <td>3.0</td>\n",
       "      <td>1.0</td>\n",
       "      <td>4.0</td>\n",
       "      <td>3.0</td>\n",
       "      <td>4.0</td>\n",
       "      <td>1.0</td>\n",
       "      <td>3.0</td>\n",
       "      <td>2.0</td>\n",
       "      <td>0.0</td>\n",
       "      <td>3.0</td>\n",
       "      <td>...</td>\n",
       "      <td>1.0</td>\n",
       "      <td>3.0</td>\n",
       "      <td>3.0</td>\n",
       "      <td>4.0</td>\n",
       "      <td>6.0</td>\n",
       "      <td>5.0</td>\n",
       "      <td>4.0</td>\n",
       "      <td>1.0</td>\n",
       "      <td>4.0</td>\n",
       "      <td>3.0</td>\n",
       "    </tr>\n",
       "    <tr>\n",
       "      <th>4</th>\n",
       "      <td>1.0</td>\n",
       "      <td>2.0</td>\n",
       "      <td>3.0</td>\n",
       "      <td>1.0</td>\n",
       "      <td>5.0</td>\n",
       "      <td>2.0</td>\n",
       "      <td>2.0</td>\n",
       "      <td>5.0</td>\n",
       "      <td>0.0</td>\n",
       "      <td>3.0</td>\n",
       "      <td>...</td>\n",
       "      <td>1.0</td>\n",
       "      <td>5.0</td>\n",
       "      <td>5.0</td>\n",
       "      <td>2.0</td>\n",
       "      <td>3.0</td>\n",
       "      <td>3.0</td>\n",
       "      <td>2.0</td>\n",
       "      <td>1.0</td>\n",
       "      <td>5.0</td>\n",
       "      <td>4.0</td>\n",
       "    </tr>\n",
       "  </tbody>\n",
       "</table>\n",
       "<p>5 rows × 64 columns</p>\n",
       "</div>"
      ],
      "text/plain": [
       "   ALTERSKATEGORIE_GROB  ANREDE_KZ  FINANZ_MINIMALIST  FINANZ_SPARER  \\\n",
       "0                   1.0        2.0                1.0            5.0   \n",
       "1                   3.0        2.0                1.0            4.0   \n",
       "2                   4.0        2.0                4.0            2.0   \n",
       "3                   3.0        1.0                4.0            3.0   \n",
       "4                   1.0        2.0                3.0            1.0   \n",
       "\n",
       "   FINANZ_VORSORGER  FINANZ_ANLEGER  FINANZ_UNAUFFAELLIGER  FINANZ_HAUSBAUER  \\\n",
       "0               2.0             5.0                    4.0               5.0   \n",
       "1               1.0             2.0                    3.0               5.0   \n",
       "2               5.0             2.0                    1.0               2.0   \n",
       "3               4.0             1.0                    3.0               2.0   \n",
       "4               5.0             2.0                    2.0               5.0   \n",
       "\n",
       "   GREEN_AVANTGARDE  HEALTH_TYP  ...   PLZ8_ANTG4  PLZ8_HHZ  PLZ8_GBZ  ARBEIT  \\\n",
       "0               0.0         3.0  ...          1.0       5.0       4.0     3.0   \n",
       "1               1.0         3.0  ...          0.0       4.0       4.0     3.0   \n",
       "2               0.0         2.0  ...          0.0       3.0       4.0     2.0   \n",
       "3               0.0         3.0  ...          1.0       3.0       3.0     4.0   \n",
       "4               0.0         3.0  ...          1.0       5.0       5.0     2.0   \n",
       "\n",
       "   ORTSGR_KLS9  RELAT_AB  Movement  Decade  wealth  life  \n",
       "0          5.0       4.0       6.0     1.0     5.0   1.0  \n",
       "1          5.0       2.0       6.0     0.0     2.0   4.0  \n",
       "2          3.0       3.0       4.0     1.0     1.0   2.0  \n",
       "3          6.0       5.0       4.0     1.0     4.0   3.0  \n",
       "4          3.0       3.0       2.0     1.0     5.0   4.0  \n",
       "\n",
       "[5 rows x 64 columns]"
      ]
     },
     "execution_count": 149,
     "metadata": {},
     "output_type": "execute_result"
    }
   ],
   "source": [
    "# If you've not yet cleaned the dataset of all NaN values, then investigate and\n",
    "# do that now.\n",
    "# Apply Imputer to replace all missing values.\n",
    "Imputer_ = Imputer(missing_values='NaN', strategy=\"mean\", axis=0)\n",
    "azdias_Imputer = Imputer_.fit_transform(azdias)\n",
    "azdias_ = pd.DataFrame(azdias_Imputer , columns=azdias.columns)\n",
    "azdias_.head()"
   ]
  },
  {
   "cell_type": "code",
   "execution_count": 150,
   "metadata": {},
   "outputs": [
    {
     "name": "stdout",
     "output_type": "stream",
     "text": [
      "0\n"
     ]
    }
   ],
   "source": [
    "print(azdias_.isnull().sum().sum())"
   ]
  },
  {
   "cell_type": "code",
   "execution_count": 151,
   "metadata": {},
   "outputs": [
    {
     "data": {
      "text/html": [
       "<div>\n",
       "<style scoped>\n",
       "    .dataframe tbody tr th:only-of-type {\n",
       "        vertical-align: middle;\n",
       "    }\n",
       "\n",
       "    .dataframe tbody tr th {\n",
       "        vertical-align: top;\n",
       "    }\n",
       "\n",
       "    .dataframe thead th {\n",
       "        text-align: right;\n",
       "    }\n",
       "</style>\n",
       "<table border=\"1\" class=\"dataframe\">\n",
       "  <thead>\n",
       "    <tr style=\"text-align: right;\">\n",
       "      <th></th>\n",
       "      <th>ALTERSKATEGORIE_GROB</th>\n",
       "      <th>ANREDE_KZ</th>\n",
       "      <th>FINANZ_MINIMALIST</th>\n",
       "      <th>FINANZ_SPARER</th>\n",
       "      <th>FINANZ_VORSORGER</th>\n",
       "      <th>FINANZ_ANLEGER</th>\n",
       "      <th>FINANZ_UNAUFFAELLIGER</th>\n",
       "      <th>FINANZ_HAUSBAUER</th>\n",
       "      <th>GREEN_AVANTGARDE</th>\n",
       "      <th>HEALTH_TYP</th>\n",
       "      <th>...</th>\n",
       "      <th>PLZ8_ANTG4</th>\n",
       "      <th>PLZ8_HHZ</th>\n",
       "      <th>PLZ8_GBZ</th>\n",
       "      <th>ARBEIT</th>\n",
       "      <th>ORTSGR_KLS9</th>\n",
       "      <th>RELAT_AB</th>\n",
       "      <th>Movement</th>\n",
       "      <th>Decade</th>\n",
       "      <th>wealth</th>\n",
       "      <th>life</th>\n",
       "    </tr>\n",
       "  </thead>\n",
       "  <tbody>\n",
       "    <tr>\n",
       "      <th>0</th>\n",
       "      <td>-1.765596</td>\n",
       "      <td>0.958121</td>\n",
       "      <td>-1.494463</td>\n",
       "      <td>1.538139</td>\n",
       "      <td>-1.040664</td>\n",
       "      <td>1.466401</td>\n",
       "      <td>0.959974</td>\n",
       "      <td>1.338532</td>\n",
       "      <td>-0.530654</td>\n",
       "      <td>1.085338</td>\n",
       "      <td>...</td>\n",
       "      <td>0.419651</td>\n",
       "      <td>1.444681</td>\n",
       "      <td>0.564771</td>\n",
       "      <td>-0.167603</td>\n",
       "      <td>-0.127894</td>\n",
       "      <td>0.684425</td>\n",
       "      <td>1.165504</td>\n",
       "      <td>0.553082</td>\n",
       "      <td>1.190696</td>\n",
       "      <td>-1.265981</td>\n",
       "    </tr>\n",
       "    <tr>\n",
       "      <th>1</th>\n",
       "      <td>0.201448</td>\n",
       "      <td>0.958121</td>\n",
       "      <td>-1.494463</td>\n",
       "      <td>0.864753</td>\n",
       "      <td>-1.766903</td>\n",
       "      <td>-0.570914</td>\n",
       "      <td>0.245238</td>\n",
       "      <td>1.338532</td>\n",
       "      <td>1.884467</td>\n",
       "      <td>1.085338</td>\n",
       "      <td>...</td>\n",
       "      <td>-0.975329</td>\n",
       "      <td>0.403229</td>\n",
       "      <td>0.564771</td>\n",
       "      <td>-0.167603</td>\n",
       "      <td>-0.127894</td>\n",
       "      <td>-0.789527</td>\n",
       "      <td>1.165504</td>\n",
       "      <td>-1.874665</td>\n",
       "      <td>-0.865318</td>\n",
       "      <td>0.761849</td>\n",
       "    </tr>\n",
       "    <tr>\n",
       "      <th>2</th>\n",
       "      <td>1.184971</td>\n",
       "      <td>0.958121</td>\n",
       "      <td>0.683285</td>\n",
       "      <td>-0.482020</td>\n",
       "      <td>1.138052</td>\n",
       "      <td>-0.570914</td>\n",
       "      <td>-1.184235</td>\n",
       "      <td>-0.792444</td>\n",
       "      <td>-0.530654</td>\n",
       "      <td>-0.270203</td>\n",
       "      <td>...</td>\n",
       "      <td>-0.975329</td>\n",
       "      <td>-0.638223</td>\n",
       "      <td>0.564771</td>\n",
       "      <td>-1.171230</td>\n",
       "      <td>-0.998469</td>\n",
       "      <td>-0.052551</td>\n",
       "      <td>-0.231903</td>\n",
       "      <td>0.553082</td>\n",
       "      <td>-1.550656</td>\n",
       "      <td>-0.590038</td>\n",
       "    </tr>\n",
       "    <tr>\n",
       "      <th>3</th>\n",
       "      <td>0.201448</td>\n",
       "      <td>-1.043709</td>\n",
       "      <td>0.683285</td>\n",
       "      <td>0.191366</td>\n",
       "      <td>0.411813</td>\n",
       "      <td>-1.250019</td>\n",
       "      <td>0.245238</td>\n",
       "      <td>-0.792444</td>\n",
       "      <td>-0.530654</td>\n",
       "      <td>1.085338</td>\n",
       "      <td>...</td>\n",
       "      <td>0.419651</td>\n",
       "      <td>-0.638223</td>\n",
       "      <td>-0.347738</td>\n",
       "      <td>0.836025</td>\n",
       "      <td>0.307394</td>\n",
       "      <td>1.421401</td>\n",
       "      <td>-0.231903</td>\n",
       "      <td>0.553082</td>\n",
       "      <td>0.505358</td>\n",
       "      <td>0.085906</td>\n",
       "    </tr>\n",
       "    <tr>\n",
       "      <th>4</th>\n",
       "      <td>-1.765596</td>\n",
       "      <td>0.958121</td>\n",
       "      <td>-0.042631</td>\n",
       "      <td>-1.155407</td>\n",
       "      <td>1.138052</td>\n",
       "      <td>-0.570914</td>\n",
       "      <td>-0.469499</td>\n",
       "      <td>1.338532</td>\n",
       "      <td>-0.530654</td>\n",
       "      <td>1.085338</td>\n",
       "      <td>...</td>\n",
       "      <td>0.419651</td>\n",
       "      <td>1.444681</td>\n",
       "      <td>1.477280</td>\n",
       "      <td>-1.171230</td>\n",
       "      <td>-0.998469</td>\n",
       "      <td>-0.052551</td>\n",
       "      <td>-1.629311</td>\n",
       "      <td>0.553082</td>\n",
       "      <td>1.190696</td>\n",
       "      <td>0.761849</td>\n",
       "    </tr>\n",
       "  </tbody>\n",
       "</table>\n",
       "<p>5 rows × 64 columns</p>\n",
       "</div>"
      ],
      "text/plain": [
       "   ALTERSKATEGORIE_GROB  ANREDE_KZ  FINANZ_MINIMALIST  FINANZ_SPARER  \\\n",
       "0             -1.765596   0.958121          -1.494463       1.538139   \n",
       "1              0.201448   0.958121          -1.494463       0.864753   \n",
       "2              1.184971   0.958121           0.683285      -0.482020   \n",
       "3              0.201448  -1.043709           0.683285       0.191366   \n",
       "4             -1.765596   0.958121          -0.042631      -1.155407   \n",
       "\n",
       "   FINANZ_VORSORGER  FINANZ_ANLEGER  FINANZ_UNAUFFAELLIGER  FINANZ_HAUSBAUER  \\\n",
       "0         -1.040664        1.466401               0.959974          1.338532   \n",
       "1         -1.766903       -0.570914               0.245238          1.338532   \n",
       "2          1.138052       -0.570914              -1.184235         -0.792444   \n",
       "3          0.411813       -1.250019               0.245238         -0.792444   \n",
       "4          1.138052       -0.570914              -0.469499          1.338532   \n",
       "\n",
       "   GREEN_AVANTGARDE  HEALTH_TYP    ...     PLZ8_ANTG4  PLZ8_HHZ  PLZ8_GBZ  \\\n",
       "0         -0.530654    1.085338    ...       0.419651  1.444681  0.564771   \n",
       "1          1.884467    1.085338    ...      -0.975329  0.403229  0.564771   \n",
       "2         -0.530654   -0.270203    ...      -0.975329 -0.638223  0.564771   \n",
       "3         -0.530654    1.085338    ...       0.419651 -0.638223 -0.347738   \n",
       "4         -0.530654    1.085338    ...       0.419651  1.444681  1.477280   \n",
       "\n",
       "     ARBEIT  ORTSGR_KLS9  RELAT_AB  Movement    Decade    wealth      life  \n",
       "0 -0.167603    -0.127894  0.684425  1.165504  0.553082  1.190696 -1.265981  \n",
       "1 -0.167603    -0.127894 -0.789527  1.165504 -1.874665 -0.865318  0.761849  \n",
       "2 -1.171230    -0.998469 -0.052551 -0.231903  0.553082 -1.550656 -0.590038  \n",
       "3  0.836025     0.307394  1.421401 -0.231903  0.553082  0.505358  0.085906  \n",
       "4 -1.171230    -0.998469 -0.052551 -1.629311  0.553082  1.190696  0.761849  \n",
       "\n",
       "[5 rows x 64 columns]"
      ]
     },
     "execution_count": 151,
     "metadata": {},
     "output_type": "execute_result"
    }
   ],
   "source": [
    "# Apply feature scaling to the general population demographics data.\n",
    "scaler = StandardScaler()\n",
    "scaler.fit(azdias_)\n",
    "azdias_scaler = scaler.transform(azdias_)\n",
    "azdias_SS = pd.DataFrame(azdias_scaler , columns=azdias.columns)\n",
    "azdias_SS.head()"
   ]
  },
  {
   "cell_type": "markdown",
   "metadata": {},
   "source": [
    "### Discussion 2.1: Apply Feature Scaling\n",
    "\n",
    "I cleaned the dataset of the remaining missing values by applying an Imputer, replacing missing values using the mean along the axis seems a better option than delete all the missing values.  after that, I used StandardScaler on the dataset."
   ]
  },
  {
   "cell_type": "markdown",
   "metadata": {},
   "source": [
    "### Step 2.2: Perform Dimensionality Reduction\n",
    "\n",
    "On your scaled data, you are now ready to apply dimensionality reduction techniques.\n",
    "\n",
    "- Use sklearn's [PCA](http://scikit-learn.org/stable/modules/generated/sklearn.decomposition.PCA.html) class to apply principal component analysis on the data, thus finding the vectors of maximal variance in the data. To start, you should not set any parameters (so all components are computed) or set a number of components that is at least half the number of features (so there's enough features to see the general trend in variability).\n",
    "- Check out the ratio of variance explained by each principal component as well as the cumulative variance explained. Try plotting the cumulative or sequential values using matplotlib's [`plot()`](https://matplotlib.org/api/_as_gen/matplotlib.pyplot.plot.html) function. Based on what you find, select a value for the number of transformed features you'll retain for the clustering part of the project.\n",
    "- Once you've made a choice for the number of components to keep, make sure you re-fit a PCA instance to perform the decided-on transformation."
   ]
  },
  {
   "cell_type": "code",
   "execution_count": 152,
   "metadata": {},
   "outputs": [
    {
     "data": {
      "text/plain": [
       "PCA(copy=True, iterated_power='auto', n_components=40, random_state=None,\n",
       "  svd_solver='auto', tol=0.0, whiten=False)"
      ]
     },
     "execution_count": 152,
     "metadata": {},
     "output_type": "execute_result"
    }
   ],
   "source": [
    "# Apply PCA to the data.\n",
    "pca = PCA(n_components=40)\n",
    "pca.fit(azdias_SS)"
   ]
  },
  {
   "cell_type": "code",
   "execution_count": 59,
   "metadata": {},
   "outputs": [
    {
     "data": {
      "image/png": "[encoded data removed]",
      "text/plain": [
       "<matplotlib.figure.Figure at 0x7fcbc53f3390>"
      ]
     },
     "metadata": {
      "needs_background": "light"
     },
     "output_type": "display_data"
    }
   ],
   "source": [
    "# Investigate the variance accounted for by each principal component.\n",
    "\n",
    "def scree_plot(pca):\n",
    "    '''\n",
    "    Creates a scree plot associated with the principal components \n",
    "    \n",
    "    INPUT: pca - the result of instantian of PCA in scikit learn\n",
    "            \n",
    "    OUTPUT:\n",
    "            None\n",
    "    '''\n",
    "    num_components = len(pca.explained_variance_ratio_)\n",
    "    ind = np.arange(num_components)\n",
    "    vals = pca.explained_variance_ratio_\n",
    " \n",
    "    plt.figure(figsize=(25, 13))\n",
    "    ax = plt.subplot(111)\n",
    "    cumvals = np.cumsum(vals)\n",
    "    ax.bar(ind, vals)\n",
    "    ax.plot(ind, cumvals)\n",
    "    for i in range(num_components):\n",
    "        ax.annotate(r\"%s%%\" % ((str(vals[i]*100)[:4])), (ind[i]+0.2, vals[i]), va=\"bottom\", ha=\"center\", fontsize=12)\n",
    " \n",
    "    ax.xaxis.set_tick_params(width=0)\n",
    "    ax.yaxis.set_tick_params(width=2, length=12)\n",
    " \n",
    "    ax.set_xlabel(\"Principal Component\")\n",
    "    ax.set_ylabel(\"Variance Explained (%)\")\n",
    "    plt.title('Explained Variance Per Principal Component')\n",
    "    \n",
    "\n",
    "scree_plot(pca)"
   ]
  },
  {
   "cell_type": "code",
   "execution_count": 153,
   "metadata": {},
   "outputs": [],
   "source": [
    "# Re-apply PCA to the data while selecting for number of components to retain.\n",
    "pca = PCA(n_components= 25)\n",
    "pca.fit(azdias_SS)\n",
    "azdias_DR = pca.transform(azdias_SS)"
   ]
  },
  {
   "cell_type": "markdown",
   "metadata": {},
   "source": [
    "### Discussion 2.2: Perform Dimensionality Reduction\n",
    "\n",
    "After examining the plot and check the variance explained by each component and the cumulative variance explained, I chose to have 25 components which represent around 80% of the cumulative variance explained."
   ]
  },
  {
   "cell_type": "markdown",
   "metadata": {},
   "source": [
    "### Step 2.3: Interpret Principal Components\n",
    "\n",
    "Now that we have our transformed principal components, it's a nice idea to check out the weight of each variable on the first few components to see if they can be interpreted in some fashion.\n",
    "\n",
    "As a reminder, each principal component is a unit vector that points in the direction of highest variance (after accounting for the variance captured by earlier principal components). The further a weight is from zero, the more the principal component is in the direction of the corresponding feature. If two features have large weights of the same sign (both positive or both negative), then increases in one tend expect to be associated with increases in the other. To contrast, features with different signs can be expected to show a negative correlation: increases in one variable should result in a decrease in the other.\n",
    "\n",
    "- To investigate the features, you should map each weight to their corresponding feature name, then sort the features according to weight. The most interesting features for each principal component, then, will be those at the beginning and end of the sorted list. Use the data dictionary document to help you understand these most prominent features, their relationships, and what a positive or negative value on the principal component might indicate.\n",
    "- You should investigate and interpret feature associations from the first three principal components in this substep. To help facilitate this, you should write a function that you can call at any time to print the sorted list of feature weights, for the *i*-th principal component. This might come in handy in the next step of the project, when you interpret the tendencies of the discovered clusters."
   ]
  },
  {
   "cell_type": "code",
   "execution_count": 154,
   "metadata": {},
   "outputs": [],
   "source": [
    "def mapWeightToFeature(no_PC, df_feature_name , pca):\n",
    "    Feature_Weight = pd.DataFrame(pca.components_ , columns = df_feature_name.columns)\n",
    "    pc = Feature_Weight.iloc[no_PC - 1, :]\n",
    "    positive_pc = pc[pc>0].sort_values(ascending=False)\n",
    "    negative_pc = pc[pc<0].sort_values(ascending=True)\n",
    "    return positive_pc , negative_pc , pc.sort_values(ascending=True)"
   ]
  },
  {
   "cell_type": "code",
   "execution_count": 155,
   "metadata": {},
   "outputs": [
    {
     "name": "stdout",
     "output_type": "stream",
     "text": [
      "first principal component\n",
      "\n",
      "\n",
      "Highest Positive Weight:\n",
      " PLZ8_ANTG3            0.227714\n",
      "PLZ8_ANTG4            0.220897\n",
      "wealth                0.208201\n",
      "HH_EINKOMMEN_SCORE    0.204457\n",
      "ORTSGR_KLS9           0.198435\n",
      "Name: 0, dtype: float64\n",
      "\n",
      "Highest Negative Weight:\n",
      " MOBI_REGIO          -0.243135\n",
      "PLZ8_ANTG1          -0.227363\n",
      "KBA05_ANTG1         -0.226622\n",
      "FINANZ_MINIMALIST   -0.218364\n",
      "KBA05_GBZ           -0.218151\n",
      "Name: 0, dtype: float64\n"
     ]
    }
   ],
   "source": [
    "# Map weights for the first principal component to corresponding feature names\n",
    "# and then print the linked values, sorted by weight.\n",
    "positive_pc , negative_pc , pc = mapWeightToFeature(1,azdias_SS, pca)\n",
    "print('first principal component\\n')\n",
    "print('\\nHighest Positive Weight:\\n', positive_pc.head(5))\n",
    "print('\\nHighest Negative Weight:\\n', negative_pc.head(5))"
   ]
  },
  {
   "cell_type": "code",
   "execution_count": 156,
   "metadata": {},
   "outputs": [
    {
     "name": "stdout",
     "output_type": "stream",
     "text": [
      "second principal component\n",
      "\n",
      "Highest Positive Weight:\n",
      " ALTERSKATEGORIE_GROB    0.261368\n",
      "FINANZ_VORSORGER        0.234372\n",
      "SEMIO_ERL               0.231131\n",
      "SEMIO_LUST              0.184350\n",
      "RETOURTYP_BK_S          0.163821\n",
      "Name: 1, dtype: float64\n",
      "\n",
      "Highest Negative Weight:\n",
      " SEMIO_REL       -0.255668\n",
      "Movement        -0.252493\n",
      "FINANZ_SPARER   -0.237512\n",
      "SEMIO_TRADV     -0.232327\n",
      "SEMIO_PFLICHT   -0.229015\n",
      "Name: 1, dtype: float64\n"
     ]
    }
   ],
   "source": [
    "# Map weights for the second principal component to corresponding feature names\n",
    "# and then print the linked values, sorted by weight.\n",
    "positive_pc , negative_pc , pc = mapWeightToFeature(2,azdias_SS, pca)\n",
    "print('second principal component')\n",
    "print('\\nHighest Positive Weight:\\n', positive_pc.head(5))\n",
    "print('\\nHighest Negative Weight:\\n', negative_pc.head(5))"
   ]
  },
  {
   "cell_type": "code",
   "execution_count": 157,
   "metadata": {},
   "outputs": [
    {
     "name": "stdout",
     "output_type": "stream",
     "text": [
      "third principal component\n",
      "\n",
      "\n",
      "Highest Positive Weight:\n",
      " SEMIO_VERT           0.345258\n",
      "SEMIO_SOZ            0.262521\n",
      "SEMIO_FAM            0.250209\n",
      "SEMIO_KULT           0.235524\n",
      "FINANZ_MINIMALIST    0.155887\n",
      "Name: 2, dtype: float64\n",
      "\n",
      "Highest Negative Weight:\n",
      " ANREDE_KZ    -0.368710\n",
      "SEMIO_KAEM   -0.337084\n",
      "SEMIO_DOM    -0.314275\n",
      "SEMIO_KRIT   -0.275993\n",
      "SEMIO_RAT    -0.217507\n",
      "Name: 2, dtype: float64\n"
     ]
    }
   ],
   "source": [
    "# Map weights for the third principal component to corresponding feature names\n",
    "# and then print the linked values, sorted by weight.\n",
    "positive_pc , negative_pc , pc = mapWeightToFeature(3,azdias_SS, pca)\n",
    "print('third principal component\\n')\n",
    "print('\\nHighest Positive Weight:\\n', positive_pc.head(5))\n",
    "print('\\nHighest Negative Weight:\\n', negative_pc.head(5))"
   ]
  },
  {
   "cell_type": "markdown",
   "metadata": {},
   "source": [
    "### Discussion 2.3: Interpret Principal Components\n",
    "\n",
    "After examining the Data_Dictionary it seems that the first component captures the financial state and density of the population, high positive weights represent people with a low financial state and live in densely populated areas while high negative weights represent the opposite of that. The second component captures age and personality, high positive weights represent adults and their personality while high negative weights represent young people. The third component captures gender and personality, high positive weights represent men while high negative weights represent women. "
   ]
  },
  {
   "cell_type": "markdown",
   "metadata": {},
   "source": [
    "## Step 3: Clustering\n",
    "\n",
    "### Step 3.1: Apply Clustering to General Population\n",
    "\n",
    "You've assessed and cleaned the demographics data, then scaled and transformed them. Now, it's time to see how the data clusters in the principal components space. In this substep, you will apply k-means clustering to the dataset and use the average within-cluster distances from each point to their assigned cluster's centroid to decide on a number of clusters to keep.\n",
    "\n",
    "- Use sklearn's [KMeans](http://scikit-learn.org/stable/modules/generated/sklearn.cluster.KMeans.html#sklearn.cluster.KMeans) class to perform k-means clustering on the PCA-transformed data.\n",
    "- Then, compute the average difference from each point to its assigned cluster's center. **Hint**: The KMeans object's `.score()` method might be useful here, but note that in sklearn, scores tend to be defined so that larger is better. Try applying it to a small, toy dataset, or use an internet search to help your understanding.\n",
    "- Perform the above two steps for a number of different cluster counts. You can then see how the average distance decreases with an increasing number of clusters. However, each additional cluster provides a smaller net benefit. Use this fact to select a final number of clusters in which to group the data. **Warning**: because of the large size of the dataset, it can take a long time for the algorithm to resolve. The more clusters to fit, the longer the algorithm will take. You should test for cluster counts through at least 10 clusters to get the full picture, but you shouldn't need to test for a number of clusters above about 30.\n",
    "- Once you've selected a final number of clusters to use, re-fit a KMeans instance to perform the clustering operation. Make sure that you also obtain the cluster assignments for the general demographics data, since you'll be using them in the final Step 3.3."
   ]
  },
  {
   "cell_type": "code",
   "execution_count": 65,
   "metadata": {},
   "outputs": [
    {
     "data": {
      "image/png": "[encoded data removed]",
      "text/plain": [
       "<matplotlib.figure.Figure at 0x7fcbc5392d68>"
      ]
     },
     "metadata": {
      "needs_background": "light"
     },
     "output_type": "display_data"
    }
   ],
   "source": [
    "# Over a number of different cluster counts...\n",
    "# run k-means clustering on the data and...\n",
    "# compute the average within-cluster distances.\n",
    "def get_kmeans_score(data, center):\n",
    "    '''\n",
    "    returns the kmeans score regarding SSE for points to centers\n",
    "    INPUT:\n",
    "        data - the dataset you want to fit kmeans to\n",
    "        center - the number of centers you want (the k value)\n",
    "    OUTPUT:\n",
    "        score - the SSE score for the kmeans model fit to the data\n",
    "    '''\n",
    "    #instantiate kmeans\n",
    "    kmeans = KMeans(n_clusters=center)\n",
    "\n",
    "    # Then fit the model to your data using the fit method\n",
    "    model = kmeans.fit(data)\n",
    "    \n",
    "    # Obtain a score related to the model fit\n",
    "    score = np.abs(model.score(data))\n",
    "    \n",
    "    return score\n",
    "\n",
    "scores = []\n",
    "centers = list(range(1,15))\n",
    "\n",
    "for center in centers:\n",
    "    scores.append(get_kmeans_score(azdias_DR, center))\n",
    "\n",
    "plt.figure(figsize=(15, 6))\n",
    "plt.plot(centers, scores, linestyle='--', marker='o', color='m');\n",
    "plt.xlabel('K');\n",
    "plt.ylabel('SSE');\n",
    "plt.title('SSE vs. K');  "
   ]
  },
  {
   "cell_type": "code",
   "execution_count": 158,
   "metadata": {},
   "outputs": [
    {
     "data": {
      "text/plain": [
       "array([4, 6, 6, ..., 3, 2, 5], dtype=int32)"
      ]
     },
     "execution_count": 158,
     "metadata": {},
     "output_type": "execute_result"
    }
   ],
   "source": [
    "# Re-fit the k-means model with the selected number of clusters and obtain\n",
    "# cluster predictions for the general population demographics data. \n",
    "kmeans = KMeans(n_clusters= 7)\n",
    "model = kmeans.fit(azdias_DR)\n",
    "   \n",
    "predict_General_Population = model.predict(azdias_DR)\n",
    "predict_General_Population"
   ]
  },
  {
   "cell_type": "markdown",
   "metadata": {},
   "source": [
    "### Discussion 3.1: Apply Clustering to General Population\n",
    "\n",
    "After examining the plot and using elbow method I chose to have 7 cluster."
   ]
  },
  {
   "cell_type": "markdown",
   "metadata": {},
   "source": [
    "### Step 3.2: Apply All Steps to the Customer Data\n",
    "\n",
    "Now that you have clusters and cluster centers for the general population, it's time to see how the customer data maps on to those clusters. Take care to not confuse this for re-fitting all of the models to the customer data. Instead, you're going to use the fits from the general population to clean, transform, and cluster the customer data. In the last step of the project, you will interpret how the general population fits apply to the customer data.\n",
    "\n",
    "- Don't forget when loading in the customers data, that it is semicolon (`;`) delimited.\n",
    "- Apply the same feature wrangling, selection, and engineering steps to the customer demographics using the `clean_data()` function you created earlier. (You can assume that the customer demographics data has similar meaning behind missing data patterns as the general demographics data.)\n",
    "- Use the sklearn objects from the general demographics data, and apply their transformations to the customers data. That is, you should not be using a `.fit()` or `.fit_transform()` method to re-fit the old objects, nor should you be creating new sklearn objects! Carry the data through the feature scaling, PCA, and clustering steps, obtaining cluster assignments for all of the data in the customer demographics data."
   ]
  },
  {
   "cell_type": "code",
   "execution_count": 159,
   "metadata": {},
   "outputs": [],
   "source": [
    "# Load in the customer demographics data.\n",
    "customers = pd.read_csv('Udacity_CUSTOMERS_Subset.csv',delimiter=';')"
   ]
  },
  {
   "cell_type": "code",
   "execution_count": 160,
   "metadata": {},
   "outputs": [
    {
     "data": {
      "text/plain": [
       "(191652, 85)"
      ]
     },
     "execution_count": 160,
     "metadata": {},
     "output_type": "execute_result"
    }
   ],
   "source": [
    "customers.shape"
   ]
  },
  {
   "cell_type": "code",
   "execution_count": 161,
   "metadata": {},
   "outputs": [
    {
     "data": {
      "text/plain": [
       "Index(['AGER_TYP', 'ALTERSKATEGORIE_GROB', 'ANREDE_KZ', 'CJT_GESAMTTYP',\n",
       "       'FINANZ_MINIMALIST', 'FINANZ_SPARER', 'FINANZ_VORSORGER',\n",
       "       'FINANZ_ANLEGER', 'FINANZ_UNAUFFAELLIGER', 'FINANZ_HAUSBAUER',\n",
       "       'FINANZTYP', 'GEBURTSJAHR', 'GFK_URLAUBERTYP', 'GREEN_AVANTGARDE',\n",
       "       'HEALTH_TYP', 'LP_LEBENSPHASE_FEIN', 'LP_LEBENSPHASE_GROB',\n",
       "       'LP_FAMILIE_FEIN', 'LP_FAMILIE_GROB', 'LP_STATUS_FEIN',\n",
       "       'LP_STATUS_GROB', 'NATIONALITAET_KZ', 'PRAEGENDE_JUGENDJAHRE',\n",
       "       'RETOURTYP_BK_S', 'SEMIO_SOZ', 'SEMIO_FAM', 'SEMIO_REL', 'SEMIO_MAT',\n",
       "       'SEMIO_VERT', 'SEMIO_LUST', 'SEMIO_ERL', 'SEMIO_KULT', 'SEMIO_RAT',\n",
       "       'SEMIO_KRIT', 'SEMIO_DOM', 'SEMIO_KAEM', 'SEMIO_PFLICHT', 'SEMIO_TRADV',\n",
       "       'SHOPPER_TYP', 'SOHO_KZ', 'TITEL_KZ', 'VERS_TYP', 'ZABEOTYP',\n",
       "       'ALTER_HH', 'ANZ_PERSONEN', 'ANZ_TITEL', 'HH_EINKOMMEN_SCORE',\n",
       "       'KK_KUNDENTYP', 'W_KEIT_KIND_HH', 'WOHNDAUER_2008',\n",
       "       'ANZ_HAUSHALTE_AKTIV', 'ANZ_HH_TITEL', 'GEBAEUDETYP', 'KONSUMNAEHE',\n",
       "       'MIN_GEBAEUDEJAHR', 'OST_WEST_KZ', 'WOHNLAGE', 'CAMEO_DEUG_2015',\n",
       "       'CAMEO_DEU_2015', 'CAMEO_INTL_2015', 'KBA05_ANTG1', 'KBA05_ANTG2',\n",
       "       'KBA05_ANTG3', 'KBA05_ANTG4', 'KBA05_BAUMAX', 'KBA05_GBZ', 'BALLRAUM',\n",
       "       'EWDICHTE', 'INNENSTADT', 'GEBAEUDETYP_RASTER', 'KKK', 'MOBI_REGIO',\n",
       "       'ONLINE_AFFINITAET', 'REGIOTYP', 'KBA13_ANZAHL_PKW', 'PLZ8_ANTG1',\n",
       "       'PLZ8_ANTG2', 'PLZ8_ANTG3', 'PLZ8_ANTG4', 'PLZ8_BAUMAX', 'PLZ8_HHZ',\n",
       "       'PLZ8_GBZ', 'ARBEIT', 'ORTSGR_KLS9', 'RELAT_AB'],\n",
       "      dtype='object')"
      ]
     },
     "execution_count": 161,
     "metadata": {},
     "output_type": "execute_result"
    }
   ],
   "source": [
    "customers.columns"
   ]
  },
  {
   "cell_type": "code",
   "execution_count": 162,
   "metadata": {},
   "outputs": [],
   "source": [
    "# Apply preprocessing, feature transformation, and clustering from the general\n",
    "# demographics onto the customer data, obtaining cluster predictions for the\n",
    "# customer demographics data.\n",
    "customers_data = clean_data(customers)"
   ]
  },
  {
   "cell_type": "code",
   "execution_count": 163,
   "metadata": {},
   "outputs": [
    {
     "data": {
      "text/html": [
       "<div>\n",
       "<style scoped>\n",
       "    .dataframe tbody tr th:only-of-type {\n",
       "        vertical-align: middle;\n",
       "    }\n",
       "\n",
       "    .dataframe tbody tr th {\n",
       "        vertical-align: top;\n",
       "    }\n",
       "\n",
       "    .dataframe thead th {\n",
       "        text-align: right;\n",
       "    }\n",
       "</style>\n",
       "<table border=\"1\" class=\"dataframe\">\n",
       "  <thead>\n",
       "    <tr style=\"text-align: right;\">\n",
       "      <th></th>\n",
       "      <th>ALTERSKATEGORIE_GROB</th>\n",
       "      <th>ANREDE_KZ</th>\n",
       "      <th>FINANZ_MINIMALIST</th>\n",
       "      <th>FINANZ_SPARER</th>\n",
       "      <th>FINANZ_VORSORGER</th>\n",
       "      <th>FINANZ_ANLEGER</th>\n",
       "      <th>FINANZ_UNAUFFAELLIGER</th>\n",
       "      <th>FINANZ_HAUSBAUER</th>\n",
       "      <th>GREEN_AVANTGARDE</th>\n",
       "      <th>HEALTH_TYP</th>\n",
       "      <th>...</th>\n",
       "      <th>PLZ8_ANTG4</th>\n",
       "      <th>PLZ8_HHZ</th>\n",
       "      <th>PLZ8_GBZ</th>\n",
       "      <th>ARBEIT</th>\n",
       "      <th>ORTSGR_KLS9</th>\n",
       "      <th>RELAT_AB</th>\n",
       "      <th>Movement</th>\n",
       "      <th>Decade</th>\n",
       "      <th>wealth</th>\n",
       "      <th>life</th>\n",
       "    </tr>\n",
       "  </thead>\n",
       "  <tbody>\n",
       "    <tr>\n",
       "      <th>0</th>\n",
       "      <td>4.0</td>\n",
       "      <td>1</td>\n",
       "      <td>5</td>\n",
       "      <td>1</td>\n",
       "      <td>5</td>\n",
       "      <td>1</td>\n",
       "      <td>2</td>\n",
       "      <td>2</td>\n",
       "      <td>1</td>\n",
       "      <td>1.0</td>\n",
       "      <td>...</td>\n",
       "      <td>0.0</td>\n",
       "      <td>5.0</td>\n",
       "      <td>5.0</td>\n",
       "      <td>1.0</td>\n",
       "      <td>2.0</td>\n",
       "      <td>1.0</td>\n",
       "      <td>2.0</td>\n",
       "      <td>0.0</td>\n",
       "      <td>1.0</td>\n",
       "      <td>3.0</td>\n",
       "    </tr>\n",
       "    <tr>\n",
       "      <th>2</th>\n",
       "      <td>4.0</td>\n",
       "      <td>2</td>\n",
       "      <td>5</td>\n",
       "      <td>1</td>\n",
       "      <td>5</td>\n",
       "      <td>1</td>\n",
       "      <td>4</td>\n",
       "      <td>4</td>\n",
       "      <td>1</td>\n",
       "      <td>2.0</td>\n",
       "      <td>...</td>\n",
       "      <td>1.0</td>\n",
       "      <td>3.0</td>\n",
       "      <td>2.0</td>\n",
       "      <td>3.0</td>\n",
       "      <td>5.0</td>\n",
       "      <td>3.0</td>\n",
       "      <td>2.0</td>\n",
       "      <td>0.0</td>\n",
       "      <td>3.0</td>\n",
       "      <td>4.0</td>\n",
       "    </tr>\n",
       "    <tr>\n",
       "      <th>3</th>\n",
       "      <td>4.0</td>\n",
       "      <td>1</td>\n",
       "      <td>5</td>\n",
       "      <td>1</td>\n",
       "      <td>5</td>\n",
       "      <td>2</td>\n",
       "      <td>1</td>\n",
       "      <td>2</td>\n",
       "      <td>0</td>\n",
       "      <td>2.0</td>\n",
       "      <td>...</td>\n",
       "      <td>0.0</td>\n",
       "      <td>3.0</td>\n",
       "      <td>4.0</td>\n",
       "      <td>1.0</td>\n",
       "      <td>3.0</td>\n",
       "      <td>1.0</td>\n",
       "      <td>1.0</td>\n",
       "      <td>1.0</td>\n",
       "      <td>2.0</td>\n",
       "      <td>4.0</td>\n",
       "    </tr>\n",
       "    <tr>\n",
       "      <th>4</th>\n",
       "      <td>3.0</td>\n",
       "      <td>1</td>\n",
       "      <td>3</td>\n",
       "      <td>1</td>\n",
       "      <td>4</td>\n",
       "      <td>4</td>\n",
       "      <td>5</td>\n",
       "      <td>2</td>\n",
       "      <td>0</td>\n",
       "      <td>3.0</td>\n",
       "      <td>...</td>\n",
       "      <td>1.0</td>\n",
       "      <td>3.0</td>\n",
       "      <td>3.0</td>\n",
       "      <td>3.0</td>\n",
       "      <td>5.0</td>\n",
       "      <td>1.0</td>\n",
       "      <td>4.0</td>\n",
       "      <td>1.0</td>\n",
       "      <td>4.0</td>\n",
       "      <td>1.0</td>\n",
       "    </tr>\n",
       "    <tr>\n",
       "      <th>5</th>\n",
       "      <td>3.0</td>\n",
       "      <td>1</td>\n",
       "      <td>5</td>\n",
       "      <td>1</td>\n",
       "      <td>5</td>\n",
       "      <td>1</td>\n",
       "      <td>2</td>\n",
       "      <td>3</td>\n",
       "      <td>1</td>\n",
       "      <td>3.0</td>\n",
       "      <td>...</td>\n",
       "      <td>1.0</td>\n",
       "      <td>5.0</td>\n",
       "      <td>5.0</td>\n",
       "      <td>3.0</td>\n",
       "      <td>7.0</td>\n",
       "      <td>5.0</td>\n",
       "      <td>2.0</td>\n",
       "      <td>0.0</td>\n",
       "      <td>3.0</td>\n",
       "      <td>4.0</td>\n",
       "    </tr>\n",
       "  </tbody>\n",
       "</table>\n",
       "<p>5 rows × 64 columns</p>\n",
       "</div>"
      ],
      "text/plain": [
       "   ALTERSKATEGORIE_GROB  ANREDE_KZ  FINANZ_MINIMALIST  FINANZ_SPARER  \\\n",
       "0                   4.0          1                  5              1   \n",
       "2                   4.0          2                  5              1   \n",
       "3                   4.0          1                  5              1   \n",
       "4                   3.0          1                  3              1   \n",
       "5                   3.0          1                  5              1   \n",
       "\n",
       "   FINANZ_VORSORGER  FINANZ_ANLEGER  FINANZ_UNAUFFAELLIGER  FINANZ_HAUSBAUER  \\\n",
       "0                 5               1                      2                 2   \n",
       "2                 5               1                      4                 4   \n",
       "3                 5               2                      1                 2   \n",
       "4                 4               4                      5                 2   \n",
       "5                 5               1                      2                 3   \n",
       "\n",
       "   GREEN_AVANTGARDE  HEALTH_TYP  ...   PLZ8_ANTG4  PLZ8_HHZ  PLZ8_GBZ  ARBEIT  \\\n",
       "0                 1         1.0  ...          0.0       5.0       5.0     1.0   \n",
       "2                 1         2.0  ...          1.0       3.0       2.0     3.0   \n",
       "3                 0         2.0  ...          0.0       3.0       4.0     1.0   \n",
       "4                 0         3.0  ...          1.0       3.0       3.0     3.0   \n",
       "5                 1         3.0  ...          1.0       5.0       5.0     3.0   \n",
       "\n",
       "   ORTSGR_KLS9  RELAT_AB  Movement  Decade  wealth  life  \n",
       "0          2.0       1.0       2.0     0.0     1.0   3.0  \n",
       "2          5.0       3.0       2.0     0.0     3.0   4.0  \n",
       "3          3.0       1.0       1.0     1.0     2.0   4.0  \n",
       "4          5.0       1.0       4.0     1.0     4.0   1.0  \n",
       "5          7.0       5.0       2.0     0.0     3.0   4.0  \n",
       "\n",
       "[5 rows x 64 columns]"
      ]
     },
     "execution_count": 163,
     "metadata": {},
     "output_type": "execute_result"
    }
   ],
   "source": [
    "customers_data.head()"
   ]
  },
  {
   "cell_type": "code",
   "execution_count": 164,
   "metadata": {},
   "outputs": [
    {
     "data": {
      "text/plain": [
       "(141590, 64)"
      ]
     },
     "execution_count": 164,
     "metadata": {},
     "output_type": "execute_result"
    }
   ],
   "source": [
    "customers_data.shape"
   ]
  },
  {
   "cell_type": "code",
   "execution_count": 165,
   "metadata": {},
   "outputs": [
    {
     "data": {
      "text/plain": [
       "102081"
      ]
     },
     "execution_count": 165,
     "metadata": {},
     "output_type": "execute_result"
    }
   ],
   "source": [
    "customers_data.isnull().sum().sum()"
   ]
  },
  {
   "cell_type": "code",
   "execution_count": 166,
   "metadata": {},
   "outputs": [],
   "source": [
    "# Apply Imputer to replace all missing values.\n",
    "customers_Imputer = Imputer_.transform(customers_data)\n",
    "customers = pd.DataFrame(customers_Imputer, columns=customers_data.columns)"
   ]
  },
  {
   "cell_type": "code",
   "execution_count": 167,
   "metadata": {},
   "outputs": [
    {
     "data": {
      "text/plain": [
       "0"
      ]
     },
     "execution_count": 167,
     "metadata": {},
     "output_type": "execute_result"
    }
   ],
   "source": [
    "customers.isnull().sum().sum()"
   ]
  },
  {
   "cell_type": "code",
   "execution_count": 168,
   "metadata": {},
   "outputs": [
    {
     "data": {
      "text/html": [
       "<div>\n",
       "<style scoped>\n",
       "    .dataframe tbody tr th:only-of-type {\n",
       "        vertical-align: middle;\n",
       "    }\n",
       "\n",
       "    .dataframe tbody tr th {\n",
       "        vertical-align: top;\n",
       "    }\n",
       "\n",
       "    .dataframe thead th {\n",
       "        text-align: right;\n",
       "    }\n",
       "</style>\n",
       "<table border=\"1\" class=\"dataframe\">\n",
       "  <thead>\n",
       "    <tr style=\"text-align: right;\">\n",
       "      <th></th>\n",
       "      <th>ALTERSKATEGORIE_GROB</th>\n",
       "      <th>ANREDE_KZ</th>\n",
       "      <th>FINANZ_MINIMALIST</th>\n",
       "      <th>FINANZ_SPARER</th>\n",
       "      <th>FINANZ_VORSORGER</th>\n",
       "      <th>FINANZ_ANLEGER</th>\n",
       "      <th>FINANZ_UNAUFFAELLIGER</th>\n",
       "      <th>FINANZ_HAUSBAUER</th>\n",
       "      <th>GREEN_AVANTGARDE</th>\n",
       "      <th>HEALTH_TYP</th>\n",
       "      <th>...</th>\n",
       "      <th>PLZ8_ANTG4</th>\n",
       "      <th>PLZ8_HHZ</th>\n",
       "      <th>PLZ8_GBZ</th>\n",
       "      <th>ARBEIT</th>\n",
       "      <th>ORTSGR_KLS9</th>\n",
       "      <th>RELAT_AB</th>\n",
       "      <th>Movement</th>\n",
       "      <th>Decade</th>\n",
       "      <th>wealth</th>\n",
       "      <th>life</th>\n",
       "    </tr>\n",
       "  </thead>\n",
       "  <tbody>\n",
       "    <tr>\n",
       "      <th>0</th>\n",
       "      <td>1.184971</td>\n",
       "      <td>-1.043709</td>\n",
       "      <td>1.409202</td>\n",
       "      <td>-1.155407</td>\n",
       "      <td>1.138052</td>\n",
       "      <td>-1.250019</td>\n",
       "      <td>-0.469499</td>\n",
       "      <td>-0.792444</td>\n",
       "      <td>1.884467</td>\n",
       "      <td>-1.625745</td>\n",
       "      <td>...</td>\n",
       "      <td>-0.975329</td>\n",
       "      <td>1.444681</td>\n",
       "      <td>1.477280</td>\n",
       "      <td>-2.174857</td>\n",
       "      <td>-1.433756</td>\n",
       "      <td>-1.526503</td>\n",
       "      <td>-1.629311</td>\n",
       "      <td>-1.874665</td>\n",
       "      <td>-1.550656</td>\n",
       "      <td>0.085906</td>\n",
       "    </tr>\n",
       "    <tr>\n",
       "      <th>1</th>\n",
       "      <td>1.184971</td>\n",
       "      <td>0.958121</td>\n",
       "      <td>1.409202</td>\n",
       "      <td>-1.155407</td>\n",
       "      <td>1.138052</td>\n",
       "      <td>-1.250019</td>\n",
       "      <td>0.959974</td>\n",
       "      <td>0.628207</td>\n",
       "      <td>1.884467</td>\n",
       "      <td>-0.270203</td>\n",
       "      <td>...</td>\n",
       "      <td>0.419651</td>\n",
       "      <td>-0.638223</td>\n",
       "      <td>-1.260247</td>\n",
       "      <td>-0.167603</td>\n",
       "      <td>-0.127894</td>\n",
       "      <td>-0.052551</td>\n",
       "      <td>-1.629311</td>\n",
       "      <td>-1.874665</td>\n",
       "      <td>-0.179980</td>\n",
       "      <td>0.761849</td>\n",
       "    </tr>\n",
       "    <tr>\n",
       "      <th>2</th>\n",
       "      <td>1.184971</td>\n",
       "      <td>-1.043709</td>\n",
       "      <td>1.409202</td>\n",
       "      <td>-1.155407</td>\n",
       "      <td>1.138052</td>\n",
       "      <td>-0.570914</td>\n",
       "      <td>-1.184235</td>\n",
       "      <td>-0.792444</td>\n",
       "      <td>-0.530654</td>\n",
       "      <td>-0.270203</td>\n",
       "      <td>...</td>\n",
       "      <td>-0.975329</td>\n",
       "      <td>-0.638223</td>\n",
       "      <td>0.564771</td>\n",
       "      <td>-2.174857</td>\n",
       "      <td>-0.998469</td>\n",
       "      <td>-1.526503</td>\n",
       "      <td>-2.328015</td>\n",
       "      <td>0.553082</td>\n",
       "      <td>-0.865318</td>\n",
       "      <td>0.761849</td>\n",
       "    </tr>\n",
       "    <tr>\n",
       "      <th>3</th>\n",
       "      <td>0.201448</td>\n",
       "      <td>-1.043709</td>\n",
       "      <td>-0.042631</td>\n",
       "      <td>-1.155407</td>\n",
       "      <td>0.411813</td>\n",
       "      <td>0.787296</td>\n",
       "      <td>1.674710</td>\n",
       "      <td>-0.792444</td>\n",
       "      <td>-0.530654</td>\n",
       "      <td>1.085338</td>\n",
       "      <td>...</td>\n",
       "      <td>0.419651</td>\n",
       "      <td>-0.638223</td>\n",
       "      <td>-0.347738</td>\n",
       "      <td>-0.167603</td>\n",
       "      <td>-0.127894</td>\n",
       "      <td>-1.526503</td>\n",
       "      <td>-0.231903</td>\n",
       "      <td>0.553082</td>\n",
       "      <td>0.505358</td>\n",
       "      <td>-1.265981</td>\n",
       "    </tr>\n",
       "    <tr>\n",
       "      <th>4</th>\n",
       "      <td>0.201448</td>\n",
       "      <td>-1.043709</td>\n",
       "      <td>1.409202</td>\n",
       "      <td>-1.155407</td>\n",
       "      <td>1.138052</td>\n",
       "      <td>-1.250019</td>\n",
       "      <td>-0.469499</td>\n",
       "      <td>-0.082119</td>\n",
       "      <td>1.884467</td>\n",
       "      <td>1.085338</td>\n",
       "      <td>...</td>\n",
       "      <td>0.419651</td>\n",
       "      <td>1.444681</td>\n",
       "      <td>1.477280</td>\n",
       "      <td>-0.167603</td>\n",
       "      <td>0.742681</td>\n",
       "      <td>1.421401</td>\n",
       "      <td>-1.629311</td>\n",
       "      <td>-1.874665</td>\n",
       "      <td>-0.179980</td>\n",
       "      <td>0.761849</td>\n",
       "    </tr>\n",
       "  </tbody>\n",
       "</table>\n",
       "<p>5 rows × 64 columns</p>\n",
       "</div>"
      ],
      "text/plain": [
       "   ALTERSKATEGORIE_GROB  ANREDE_KZ  FINANZ_MINIMALIST  FINANZ_SPARER  \\\n",
       "0              1.184971  -1.043709           1.409202      -1.155407   \n",
       "1              1.184971   0.958121           1.409202      -1.155407   \n",
       "2              1.184971  -1.043709           1.409202      -1.155407   \n",
       "3              0.201448  -1.043709          -0.042631      -1.155407   \n",
       "4              0.201448  -1.043709           1.409202      -1.155407   \n",
       "\n",
       "   FINANZ_VORSORGER  FINANZ_ANLEGER  FINANZ_UNAUFFAELLIGER  FINANZ_HAUSBAUER  \\\n",
       "0          1.138052       -1.250019              -0.469499         -0.792444   \n",
       "1          1.138052       -1.250019               0.959974          0.628207   \n",
       "2          1.138052       -0.570914              -1.184235         -0.792444   \n",
       "3          0.411813        0.787296               1.674710         -0.792444   \n",
       "4          1.138052       -1.250019              -0.469499         -0.082119   \n",
       "\n",
       "   GREEN_AVANTGARDE  HEALTH_TYP    ...     PLZ8_ANTG4  PLZ8_HHZ  PLZ8_GBZ  \\\n",
       "0          1.884467   -1.625745    ...      -0.975329  1.444681  1.477280   \n",
       "1          1.884467   -0.270203    ...       0.419651 -0.638223 -1.260247   \n",
       "2         -0.530654   -0.270203    ...      -0.975329 -0.638223  0.564771   \n",
       "3         -0.530654    1.085338    ...       0.419651 -0.638223 -0.347738   \n",
       "4          1.884467    1.085338    ...       0.419651  1.444681  1.477280   \n",
       "\n",
       "     ARBEIT  ORTSGR_KLS9  RELAT_AB  Movement    Decade    wealth      life  \n",
       "0 -2.174857    -1.433756 -1.526503 -1.629311 -1.874665 -1.550656  0.085906  \n",
       "1 -0.167603    -0.127894 -0.052551 -1.629311 -1.874665 -0.179980  0.761849  \n",
       "2 -2.174857    -0.998469 -1.526503 -2.328015  0.553082 -0.865318  0.761849  \n",
       "3 -0.167603    -0.127894 -1.526503 -0.231903  0.553082  0.505358 -1.265981  \n",
       "4 -0.167603     0.742681  1.421401 -1.629311 -1.874665 -0.179980  0.761849  \n",
       "\n",
       "[5 rows x 64 columns]"
      ]
     },
     "execution_count": 168,
     "metadata": {},
     "output_type": "execute_result"
    }
   ],
   "source": [
    "# Apply feature scaling\n",
    "customers_scaler = scaler.transform(customers)\n",
    "customers_SS = pd.DataFrame(customers_scaler , columns=customers.columns)\n",
    "customers_SS.head()"
   ]
  },
  {
   "cell_type": "code",
   "execution_count": 169,
   "metadata": {},
   "outputs": [],
   "source": [
    "# Apply PCA to the data.\n",
    "customers_DR = pca.transform(customers_SS)"
   ]
  },
  {
   "cell_type": "code",
   "execution_count": 170,
   "metadata": {},
   "outputs": [
    {
     "data": {
      "text/plain": [
       "array([0, 1, 0, ..., 0, 6, 0], dtype=int32)"
      ]
     },
     "execution_count": 170,
     "metadata": {},
     "output_type": "execute_result"
    }
   ],
   "source": [
    "predict_customers = model.predict(customers_DR)\n",
    "predict_customers"
   ]
  },
  {
   "cell_type": "markdown",
   "metadata": {},
   "source": [
    "### Step 3.3: Compare Customer Data to Demographics Data\n",
    "\n",
    "At this point, you have clustered data based on demographics of the general population of Germany, and seen how the customer data for a mail-order sales company maps onto those demographic clusters. In this final substep, you will compare the two cluster distributions to see where the strongest customer base for the company is.\n",
    "\n",
    "Consider the proportion of persons in each cluster for the general population, and the proportions for the customers. If we think the company's customer base to be universal, then the cluster assignment proportions should be fairly similar between the two. If there are only particular segments of the population that are interested in the company's products, then we should see a mismatch from one to the other. If there is a higher proportion of persons in a cluster for the customer data compared to the general population (e.g. 5% of persons are assigned to a cluster for the general population, but 15% of the customer data is closest to that cluster's centroid) then that suggests the people in that cluster to be a target audience for the company. On the other hand, the proportion of the data in a cluster being larger in the general population than the customer data (e.g. only 2% of customers closest to a population centroid that captures 6% of the data) suggests that group of persons to be outside of the target demographics.\n",
    "\n",
    "Take a look at the following points in this step:\n",
    "\n",
    "- Compute the proportion of data points in each cluster for the general population and the customer data. Visualizations will be useful here: both for the individual dataset proportions, but also to visualize the ratios in cluster representation between groups. Seaborn's [`countplot()`](https://seaborn.pydata.org/generated/seaborn.countplot.html) or [`barplot()`](https://seaborn.pydata.org/generated/seaborn.barplot.html) function could be handy.\n",
    "  - Recall the analysis you performed in step 1.1.3 of the project, where you separated out certain data points from the dataset if they had more than a specified threshold of missing values. If you found that this group was qualitatively different from the main bulk of the data, you should treat this as an additional data cluster in this analysis. Make sure that you account for the number of data points in this subset, for both the general population and customer datasets, when making your computations!\n",
    "- Which cluster or clusters are overrepresented in the customer dataset compared to the general population? Select at least one such cluster and infer what kind of people might be represented by that cluster. Use the principal component interpretations from step 2.3 or look at additional components to help you make this inference. Alternatively, you can use the `.inverse_transform()` method of the PCA and StandardScaler objects to transform centroids back to the original data space and interpret the retrieved values directly.\n",
    "- Perform a similar investigation for the underrepresented clusters. Which cluster or clusters are underrepresented in the customer dataset compared to the general population, and what kinds of people are typified by these clusters?"
   ]
  },
  {
   "cell_type": "code",
   "execution_count": 171,
   "metadata": {},
   "outputs": [
    {
     "data": {
      "image/png": "[encoded data removed]",
      "text/plain": [
       "<matplotlib.figure.Figure at 0x7fe4ef900f28>"
      ]
     },
     "metadata": {
      "needs_background": "light"
     },
     "output_type": "display_data"
    }
   ],
   "source": [
    "# Compare the proportion of data in each cluster for the customer data to the\n",
    "# proportion of data in each cluster for the general population.\n",
    "\n",
    "figure, axs = plt.subplots(1 ,2 , figsize =(10,6),sharey=False)\n",
    "figure.subplots_adjust()\n",
    "sns.set(style=\"whitegrid\")\n",
    "sns.countplot(predict_customers, ax= axs[0])\n",
    "sns.countplot(predict_General_Population, ax= axs[1])\n",
    "axs[0].set_title(\"Customers\");\n",
    "axs[1].set_title(\"Population\");"
   ]
  },
  {
   "cell_type": "code",
   "execution_count": 176,
   "metadata": {},
   "outputs": [],
   "source": [
    "# What kinds of people are part of a cluster that is overrepresented in the\n",
    "# customer data compared to the general population?\n",
    "\n",
    "diff_over = scaler.inverse_transform(pca.inverse_transform(model.cluster_centers_[0]))\n",
    "\n",
    "overrepresented = pd.Series(data =diff_over, index = customers.columns)"
   ]
  },
  {
   "cell_type": "code",
   "execution_count": 177,
   "metadata": {},
   "outputs": [],
   "source": [
    "# What kinds of people are part of a cluster that is underrepresented in the\n",
    "# customer data compared to the general population?\n",
    "\n",
    "diff_under = scaler.inverse_transform(pca.inverse_transform(model.cluster_centers_[4]))\n",
    "\n",
    "underrepresented = pd.Series(data =diff_under, index = customers.columns)"
   ]
  },
  {
   "cell_type": "code",
   "execution_count": 178,
   "metadata": {},
   "outputs": [
    {
     "data": {
      "text/plain": [
       "ALTERSKATEGORIE_GROB    3.235203\n",
       "ANREDE_KZ               1.079661\n",
       "FINANZ_MINIMALIST       4.572302\n",
       "FINANZ_SPARER           1.777356\n",
       "FINANZ_VORSORGER        4.113124\n",
       "dtype: float64"
      ]
     },
     "execution_count": 178,
     "metadata": {},
     "output_type": "execute_result"
    }
   ],
   "source": [
    "overrepresented.head()"
   ]
  },
  {
   "cell_type": "code",
   "execution_count": 179,
   "metadata": {},
   "outputs": [
    {
     "data": {
      "text/plain": [
       "ALTERSKATEGORIE_GROB    1.745360\n",
       "ANREDE_KZ               1.976096\n",
       "FINANZ_MINIMALIST       1.171749\n",
       "FINANZ_SPARER           4.264854\n",
       "FINANZ_VORSORGER        2.221918\n",
       "dtype: float64"
      ]
     },
     "execution_count": 179,
     "metadata": {},
     "output_type": "execute_result"
    }
   ],
   "source": [
    "underrepresented.head()"
   ]
  },
  {
   "cell_type": "markdown",
   "metadata": {},
   "source": [
    "### Discussion 3.3: Compare Customer Data to Demographics Data\n",
    "\n",
    "Cluster 1 is the most over-represented in the customer data compared to the general population, the cluster represents people who are adults, considered money-saver, also has low financial preparation, conservative towards finance and investment. While cluster 5 is the most underrepresented in the customer data compared to the general population, the cluster represents people who are younger generation than that represents in cluster 1, considered less money-saver, also has high financial preparation, are less conservative towards finance and investment."
   ]
  },
  {
   "cell_type": "markdown",
   "metadata": {},
   "source": [
    "> Congratulations on making it this far in the project! Before you finish, make sure to check through the entire notebook from top to bottom to make sure that your analysis follows a logical flow and all of your findings are documented in **Discussion** cells. Once you've checked over all of your work, you should export the notebook as an HTML document to submit for evaluation. You can do this from the menu, navigating to **File -> Download as -> HTML (.html)**. You will submit both that document and this notebook for your project submission."
   ]
  },
  {
   "cell_type": "code",
   "execution_count": null,
   "metadata": {},
   "outputs": [],
   "source": []
  }
 ],
 "metadata": {
  "kernelspec": {
   "display_name": "Python 3",
   "language": "python",
   "name": "python3"
  },
  "language_info": {
   "codemirror_mode": {
    "name": "ipython",
    "version": 3
   },
   "file_extension": ".py",
   "mimetype": "text/x-python",
   "name": "python",
   "nbconvert_exporter": "python",
   "pygments_lexer": "ipython3",
   "version": "3.6.3"
  }
 },
 "nbformat": 4,
 "nbformat_minor": 2
}
